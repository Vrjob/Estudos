{
 "cells": [
  {
   "cell_type": "code",
   "execution_count": 41,
   "id": "09a63338",
   "metadata": {},
   "outputs": [
    {
     "name": "stdout",
     "output_type": "stream",
     "text": [
      "Valor da moeda: 100 reais\n",
      "Convertida, ela ficara: 18.18 dolares\n"
     ]
    }
   ],
   "source": [
    "# Arquivo utilizado até a aula 3, quando então passamos a utilizar a classe\n",
    "# ExtratorURL no arquivo extrator_url.py\n",
    "url = \"bytebank.com/cambio?quantidade=100&moedaOrigem=real&moedaDestino=dolar\"\n",
    "\n",
    "# Sanitização da URL\n",
    "url = url.strip()\n",
    "\n",
    "# Validação da URL\n",
    "if url == \"\":\n",
    "    raise ValueError(\"A URL está vazia\")\n",
    "\n",
    "# Separa base e parâmetros\n",
    "indice_interrogacao = url.find('?')\n",
    "url_base = url[:indice_interrogacao]\n",
    "url_parametros = url[indice_interrogacao+1:]\n",
    "#print(url_parametros)\n",
    "\n",
    "# Busca o valor de um parâmetro\n",
    "parametro_busca = 'quantidade'\n",
    "indice_parametro = url_parametros.find(parametro_busca)\n",
    "indice_valor = indice_parametro + len(parametro_busca) + 1\n",
    "indice_e_comercial = url_parametros.find('&', indice_valor)\n",
    "if indice_e_comercial == -1:\n",
    "    valor = url_parametros[indice_valor:]\n",
    "else:\n",
    "    valor = url_parametros[indice_valor:indice_e_comercial]\n",
    "\n",
    "#print(valor)\n",
    "\n",
    "# Desafio\n",
    "# Modifique o nosso projeto, levando em conta o valor do dólar em real,\n",
    "# para, sabendo o valor do dólar em real,\n",
    "# ler da URL os 3 parâmetros (origem, destino e quantidade) e\n",
    "# imprimir na tela o valor da conversão.\n",
    "\n",
    "# 1. Valor do Dolar em relação ao real\n",
    "DOLAR = 5.50\n",
    "\n",
    "# 2.a Localizar qual Moeda é a da Origem\n",
    "IndOrigem = url.find('Origem=')\n",
    "Origem = url[IndOrigem+7:IndOrigem+11]\n",
    "\n",
    "# 2.b Localizar qual Moeda é a do Destino\n",
    "IndDest = url.find('Destino=')\n",
    "Dest = url[IndDest+8:IndDest+12]\n",
    "\n",
    "# 3. Calculo de Conversão\n",
    "if Origem == 'real':\n",
    "    if Dest == 'dola':\n",
    "        print(f\"Valor da moeda: {valor} reais\")\n",
    "        convertido = round((float(valor)/DOLAR),2)\n",
    "        print(f\"Convertida, ela ficara: {convertido} dolares\")\n",
    "    else:\n",
    "        print(\"Não foi possivel calcular os valores\")\n",
    "    \n",
    "elif Origem == 'dola':\n",
    "    if Dest == 'real':\n",
    "        print(f\"Valor da moeda: {valor} dolares\")\n",
    "        convertido = round((float(valor)*DOLAR),2)\n",
    "        print(f\"Convertida, ela ficara: {convertido} reais\")\n",
    "    else:\n",
    "        print(\"Não foi possivel calcular os valores\")    \n",
    "    \n",
    "else:\n",
    "    print(\"Não foi possivel calcular os valores\")\n",
    "    \n",
    "\n"
   ]
  },
  {
   "cell_type": "code",
   "execution_count": null,
   "id": "ff7a9d0b",
   "metadata": {},
   "outputs": [],
   "source": []
  },
  {
   "cell_type": "code",
   "execution_count": null,
   "id": "cf2e9613",
   "metadata": {},
   "outputs": [],
   "source": []
  }
 ],
 "metadata": {
  "kernelspec": {
   "display_name": "Python 3 (ipykernel)",
   "language": "python",
   "name": "python3"
  },
  "language_info": {
   "codemirror_mode": {
    "name": "ipython",
    "version": 3
   },
   "file_extension": ".py",
   "mimetype": "text/x-python",
   "name": "python",
   "nbconvert_exporter": "python",
   "pygments_lexer": "ipython3",
   "version": "3.9.12"
  }
 },
 "nbformat": 4,
 "nbformat_minor": 5
}
