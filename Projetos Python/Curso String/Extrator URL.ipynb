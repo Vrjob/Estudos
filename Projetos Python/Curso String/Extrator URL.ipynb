{
 "cells": [
  {
   "cell_type": "code",
   "execution_count": 1,
   "id": "e90398ff",
   "metadata": {},
   "outputs": [],
   "source": [
    "url = \"bytebank.com/cambio?moedaOrigem=real\""
   ]
  },
  {
   "cell_type": "code",
   "execution_count": 2,
   "id": "dd5fd26b",
   "metadata": {},
   "outputs": [
    {
     "name": "stdout",
     "output_type": "stream",
     "text": [
      "bytebank.com/cambio?moedaOrigem=real\n"
     ]
    }
   ],
   "source": [
    "print(url)"
   ]
  },
  {
   "cell_type": "code",
   "execution_count": 3,
   "id": "cb8e7304",
   "metadata": {},
   "outputs": [
    {
     "name": "stdout",
     "output_type": "stream",
     "text": [
      "Alura\n"
     ]
    }
   ],
   "source": [
    "print('Alura')"
   ]
  },
  {
   "cell_type": "code",
   "execution_count": 4,
   "id": "315eb732",
   "metadata": {},
   "outputs": [],
   "source": [
    "texto = 'abcde'"
   ]
  },
  {
   "cell_type": "code",
   "execution_count": 5,
   "id": "b20f7e3d",
   "metadata": {},
   "outputs": [
    {
     "data": {
      "text/plain": [
       "'abcde'"
      ]
     },
     "execution_count": 5,
     "metadata": {},
     "output_type": "execute_result"
    }
   ],
   "source": [
    "texto"
   ]
  },
  {
   "cell_type": "code",
   "execution_count": 6,
   "id": "3de03010",
   "metadata": {},
   "outputs": [
    {
     "name": "stdout",
     "output_type": "stream",
     "text": [
      "abcde\n"
     ]
    }
   ],
   "source": [
    "print(texto)"
   ]
  },
  {
   "cell_type": "code",
   "execution_count": 7,
   "id": "f2024566",
   "metadata": {},
   "outputs": [
    {
     "data": {
      "text/plain": [
       "'a'"
      ]
     },
     "execution_count": 7,
     "metadata": {},
     "output_type": "execute_result"
    }
   ],
   "source": [
    "texto[0]"
   ]
  },
  {
   "cell_type": "code",
   "execution_count": 8,
   "id": "fff550a1",
   "metadata": {},
   "outputs": [
    {
     "data": {
      "text/plain": [
       "'b'"
      ]
     },
     "execution_count": 8,
     "metadata": {},
     "output_type": "execute_result"
    }
   ],
   "source": [
    "texto[1]"
   ]
  },
  {
   "cell_type": "code",
   "execution_count": 9,
   "id": "c2a0a4c4",
   "metadata": {},
   "outputs": [
    {
     "data": {
      "text/plain": [
       "'e'"
      ]
     },
     "execution_count": 9,
     "metadata": {},
     "output_type": "execute_result"
    }
   ],
   "source": [
    "texto[-1]"
   ]
  },
  {
   "cell_type": "code",
   "execution_count": 10,
   "id": "7e56d46c",
   "metadata": {},
   "outputs": [
    {
     "data": {
      "text/plain": [
       "'ab'"
      ]
     },
     "execution_count": 10,
     "metadata": {},
     "output_type": "execute_result"
    }
   ],
   "source": [
    "texto[0:2]"
   ]
  },
  {
   "cell_type": "code",
   "execution_count": 11,
   "id": "69620f83",
   "metadata": {},
   "outputs": [
    {
     "name": "stdout",
     "output_type": "stream",
     "text": [
      "bytebank.com/cambio\n"
     ]
    }
   ],
   "source": [
    "indice_interrogacao = url.find('?')\n",
    "url_base = url[0:indice_interrogacao]\n",
    "print (url_base)"
   ]
  },
  {
   "cell_type": "code",
   "execution_count": 12,
   "id": "fa3c620e",
   "metadata": {},
   "outputs": [
    {
     "name": "stdout",
     "output_type": "stream",
     "text": [
      "moedaOrigem=real\n"
     ]
    }
   ],
   "source": [
    "url_parametros = url [indice_interrogacao+1:]\n",
    "print (url_parametros)"
   ]
  },
  {
   "cell_type": "code",
   "execution_count": 13,
   "id": "70debbe4",
   "metadata": {},
   "outputs": [
    {
     "data": {
      "text/plain": [
       "2"
      ]
     },
     "execution_count": 13,
     "metadata": {},
     "output_type": "execute_result"
    }
   ],
   "source": [
    "texto.find('c')"
   ]
  },
  {
   "cell_type": "code",
   "execution_count": 14,
   "id": "496a7247",
   "metadata": {},
   "outputs": [
    {
     "name": "stdout",
     "output_type": "stream",
     "text": [
      "0\n",
      "3\n"
     ]
    }
   ],
   "source": [
    "txt = \"eu estudo na alura\"\n",
    "find1 = txt.find('e')\n",
    "print(find1)\n",
    "find2 = txt.find('estudo')\n",
    "print(find2)"
   ]
  },
  {
   "cell_type": "code",
   "execution_count": 15,
   "id": "169501a5",
   "metadata": {},
   "outputs": [
    {
     "name": "stdout",
     "output_type": "stream",
     "text": [
      "moedaDestino=dolar&moedaOrigem=real\n",
      "19\n",
      "real\n"
     ]
    }
   ],
   "source": [
    "url = \"bytebank.com/cambio?moedaDestino=dolar&moedaOrigem=real\"\n",
    "\n",
    "indice_interrogacao = url.find('?')\n",
    "url_base = url[:indice_interrogacao]\n",
    "\n",
    "url_parametros = url[indice_interrogacao+1:]\n",
    "print(url_parametros)\n",
    "\n",
    "parametro_busca = 'moedaOrigem'\n",
    "indice_parametro = url_parametros.find(parametro_busca)\n",
    "\n",
    "print(indice_parametro)\n",
    "\n",
    "indice_valor = indice_parametro + len(parametro_busca) + 1\n",
    "valor = url_parametros[indice_valor:]\n",
    "\n",
    "print(valor)"
   ]
  },
  {
   "cell_type": "code",
   "execution_count": 16,
   "id": "b8a37887",
   "metadata": {},
   "outputs": [
    {
     "name": "stdout",
     "output_type": "stream",
     "text": [
      "dolar\n"
     ]
    }
   ],
   "source": [
    "\n",
    "indice_e_comercial = url_parametros.find('&')\n",
    "parametro_busca = 'moedaDestino'\n",
    "indice_parametro = url_parametros.find(parametro_busca)\n",
    "indice_valor = indice_parametro + len(parametro_busca) + 1\n",
    "\n",
    "valor = url_parametros[indice_valor:indice_e_comercial]\n",
    "\n",
    "print(valor)"
   ]
  },
  {
   "cell_type": "code",
   "execution_count": 18,
   "id": "5e904707",
   "metadata": {},
   "outputs": [
    {
     "name": "stdout",
     "output_type": "stream",
     "text": [
      "100\n"
     ]
    }
   ],
   "source": [
    "url = \"bytebank.com/cambio?quantidade=100&moedaOrigem=real&moedaDestino=dolar\"\n",
    " \n",
    "indice_interrogacao = url.find('?')\n",
    "url_base = url[:indice_interrogacao]\n",
    "url_parametros = url[indice_interrogacao+1:]\n",
    "parametro_busca = 'quantidade'\n",
    "indice_parametro = url_parametros.find(parametro_busca)\n",
    "indice_valor = indice_parametro + len(parametro_busca) + 1\n",
    "indice_e_comercial = url_parametros.find('&', indice_valor)\n",
    "if indice_e_comercial == -1:\n",
    "    valor = url_parametros[indice_valor:]\n",
    "else:\n",
    "    valor = url_parametros[indice_valor:indice_e_comercial]\n",
    "print(valor)"
   ]
  },
  {
   "cell_type": "code",
   "execution_count": 19,
   "id": "882e6f76",
   "metadata": {},
   "outputs": [
    {
     "data": {
      "text/plain": [
       "'100'"
      ]
     },
     "execution_count": 19,
     "metadata": {},
     "output_type": "execute_result"
    }
   ],
   "source": [
    "valor\n"
   ]
  },
  {
   "cell_type": "code",
   "execution_count": null,
   "id": "bbb51c10",
   "metadata": {},
   "outputs": [],
   "source": []
  }
 ],
 "metadata": {
  "kernelspec": {
   "display_name": "Python 3 (ipykernel)",
   "language": "python",
   "name": "python3"
  },
  "language_info": {
   "codemirror_mode": {
    "name": "ipython",
    "version": 3
   },
   "file_extension": ".py",
   "mimetype": "text/x-python",
   "name": "python",
   "nbconvert_exporter": "python",
   "pygments_lexer": "ipython3",
   "version": "3.9.12"
  }
 },
 "nbformat": 4,
 "nbformat_minor": 5
}
