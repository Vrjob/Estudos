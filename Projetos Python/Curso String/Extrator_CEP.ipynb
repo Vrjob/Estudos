{
 "cells": [
  {
   "cell_type": "code",
   "execution_count": 1,
   "id": "1da31f70",
   "metadata": {},
   "outputs": [],
   "source": [
    "endereco = \"Rua das Flores 72, apartamento 1002, Laranjeiras, Rio de Janeiro, RJ, 23440-120\""
   ]
  },
  {
   "cell_type": "code",
   "execution_count": 2,
   "id": "c1cc3595",
   "metadata": {},
   "outputs": [],
   "source": [
    "import re"
   ]
  },
  {
   "cell_type": "code",
   "execution_count": 3,
   "id": "c427ec18",
   "metadata": {},
   "outputs": [],
   "source": [
    "padrao = re.compile(\"[0123456789][0123456789][0123456789][0123456789][0123456789][-]?[0123456789][0123456789][0123456789]\")"
   ]
  },
  {
   "cell_type": "code",
   "execution_count": 4,
   "id": "216d90a1",
   "metadata": {},
   "outputs": [],
   "source": [
    "buscar = padrao.search(endereco)\n",
    "if buscar:\n",
    "    cep = buscar.group()\n",
    "    "
   ]
  },
  {
   "cell_type": "code",
   "execution_count": 5,
   "id": "6748b6ed",
   "metadata": {},
   "outputs": [
    {
     "name": "stdout",
     "output_type": "stream",
     "text": [
      "23440-120\n"
     ]
    }
   ],
   "source": [
    "print(cep)"
   ]
  },
  {
   "cell_type": "code",
   "execution_count": 6,
   "id": "c6dbdbfd",
   "metadata": {},
   "outputs": [],
   "source": [
    "padrao = re.compile(\"[0-9]{5}[-]{0,1}[0-9]{3}\")"
   ]
  },
  {
   "cell_type": "code",
   "execution_count": 7,
   "id": "191d7ccb",
   "metadata": {},
   "outputs": [
    {
     "name": "stdout",
     "output_type": "stream",
     "text": [
      "23440-120\n"
     ]
    }
   ],
   "source": [
    "buscar = padrao.search(endereco)\n",
    "if buscar:\n",
    "    cep = buscar.group()\n",
    "    print(cep)\n",
    "    "
   ]
  },
  {
   "cell_type": "code",
   "execution_count": null,
   "id": "3522c017",
   "metadata": {},
   "outputs": [],
   "source": []
  }
 ],
 "metadata": {
  "kernelspec": {
   "display_name": "Python 3 (ipykernel)",
   "language": "python",
   "name": "python3"
  },
  "language_info": {
   "codemirror_mode": {
    "name": "ipython",
    "version": 3
   },
   "file_extension": ".py",
   "mimetype": "text/x-python",
   "name": "python",
   "nbconvert_exporter": "python",
   "pygments_lexer": "ipython3",
   "version": "3.9.12"
  }
 },
 "nbformat": 4,
 "nbformat_minor": 5
}
