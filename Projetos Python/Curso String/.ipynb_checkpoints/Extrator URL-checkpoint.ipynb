{
 "cells": [
  {
   "cell_type": "code",
   "execution_count": 1,
   "id": "e90398ff",
   "metadata": {},
   "outputs": [],
   "source": [
    "url = \"bytebank.com/cambio?moedaOrigem=real\""
   ]
  },
  {
   "cell_type": "code",
   "execution_count": 2,
   "id": "dd5fd26b",
   "metadata": {},
   "outputs": [
    {
     "name": "stdout",
     "output_type": "stream",
     "text": [
      "bytebank.com/cambio?moedaOrigem=real\n"
     ]
    }
   ],
   "source": [
    "print(url)"
   ]
  },
  {
   "cell_type": "code",
   "execution_count": 3,
   "id": "cb8e7304",
   "metadata": {},
   "outputs": [
    {
     "name": "stdout",
     "output_type": "stream",
     "text": [
      "Alura\n"
     ]
    }
   ],
   "source": [
    "print('Alura')"
   ]
  },
  {
   "cell_type": "code",
   "execution_count": 4,
   "id": "315eb732",
   "metadata": {},
   "outputs": [],
   "source": [
    "texto = 'abcde'"
   ]
  },
  {
   "cell_type": "code",
   "execution_count": 5,
   "id": "b20f7e3d",
   "metadata": {},
   "outputs": [
    {
     "data": {
      "text/plain": [
       "'abcde'"
      ]
     },
     "execution_count": 5,
     "metadata": {},
     "output_type": "execute_result"
    }
   ],
   "source": [
    "texto"
   ]
  },
  {
   "cell_type": "code",
   "execution_count": 6,
   "id": "3de03010",
   "metadata": {},
   "outputs": [
    {
     "name": "stdout",
     "output_type": "stream",
     "text": [
      "abcde\n"
     ]
    }
   ],
   "source": [
    "print(texto)"
   ]
  },
  {
   "cell_type": "code",
   "execution_count": 7,
   "id": "f2024566",
   "metadata": {},
   "outputs": [
    {
     "data": {
      "text/plain": [
       "'a'"
      ]
     },
     "execution_count": 7,
     "metadata": {},
     "output_type": "execute_result"
    }
   ],
   "source": [
    "texto[0]"
   ]
  },
  {
   "cell_type": "code",
   "execution_count": 8,
   "id": "fff550a1",
   "metadata": {},
   "outputs": [
    {
     "data": {
      "text/plain": [
       "'b'"
      ]
     },
     "execution_count": 8,
     "metadata": {},
     "output_type": "execute_result"
    }
   ],
   "source": [
    "texto[1]"
   ]
  },
  {
   "cell_type": "code",
   "execution_count": 9,
   "id": "c2a0a4c4",
   "metadata": {},
   "outputs": [
    {
     "data": {
      "text/plain": [
       "'e'"
      ]
     },
     "execution_count": 9,
     "metadata": {},
     "output_type": "execute_result"
    }
   ],
   "source": [
    "texto[-1]"
   ]
  },
  {
   "cell_type": "code",
   "execution_count": 10,
   "id": "7e56d46c",
   "metadata": {},
   "outputs": [
    {
     "data": {
      "text/plain": [
       "'ab'"
      ]
     },
     "execution_count": 10,
     "metadata": {},
     "output_type": "execute_result"
    }
   ],
   "source": [
    "texto[0:2]"
   ]
  },
  {
   "cell_type": "code",
   "execution_count": 11,
   "id": "69620f83",
   "metadata": {},
   "outputs": [
    {
     "name": "stdout",
     "output_type": "stream",
     "text": [
      "bytebank.com/cambio\n"
     ]
    }
   ],
   "source": [
    "url_base = url[0:19]\n",
    "print (url_base)"
   ]
  },
  {
   "cell_type": "code",
   "execution_count": 19,
   "id": "fa3c620e",
   "metadata": {},
   "outputs": [
    {
     "name": "stdout",
     "output_type": "stream",
     "text": [
      "moedaOrigem=real\n"
     ]
    }
   ],
   "source": [
    "url_parametros = url [20:36]\n",
    "print (url_parametros)"
   ]
  },
  {
   "cell_type": "code",
   "execution_count": null,
   "id": "70debbe4",
   "metadata": {},
   "outputs": [],
   "source": []
  }
 ],
 "metadata": {
  "kernelspec": {
   "display_name": "Python 3 (ipykernel)",
   "language": "python",
   "name": "python3"
  },
  "language_info": {
   "codemirror_mode": {
    "name": "ipython",
    "version": 3
   },
   "file_extension": ".py",
   "mimetype": "text/x-python",
   "name": "python",
   "nbconvert_exporter": "python",
   "pygments_lexer": "ipython3",
   "version": "3.9.12"
  }
 },
 "nbformat": 4,
 "nbformat_minor": 5
}
