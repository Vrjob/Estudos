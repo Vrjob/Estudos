{
 "cells": [
  {
   "cell_type": "code",
   "execution_count": 2,
   "id": "1da31f70",
   "metadata": {},
   "outputs": [],
   "source": [
    "endereco = \"Rua das Flores 72, apartamento 1002, Laranjeiras, Rio de Janeiro, RJ, 23440-120\""
   ]
  },
  {
   "cell_type": "code",
   "execution_count": 3,
   "id": "c1cc3595",
   "metadata": {},
   "outputs": [],
   "source": [
    "import re"
   ]
  },
  {
   "cell_type": "code",
   "execution_count": null,
   "id": "c427ec18",
   "metadata": {},
   "outputs": [],
   "source": [
    "re.compile(\"[0123456789][0123456789][0123456789][0123456789][0123456789]\")"
   ]
  }
 ],
 "metadata": {
  "kernelspec": {
   "display_name": "Python 3 (ipykernel)",
   "language": "python",
   "name": "python3"
  },
  "language_info": {
   "codemirror_mode": {
    "name": "ipython",
    "version": 3
   },
   "file_extension": ".py",
   "mimetype": "text/x-python",
   "name": "python",
   "nbconvert_exporter": "python",
   "pygments_lexer": "ipython3",
   "version": "3.9.12"
  }
 },
 "nbformat": 4,
 "nbformat_minor": 5
}
