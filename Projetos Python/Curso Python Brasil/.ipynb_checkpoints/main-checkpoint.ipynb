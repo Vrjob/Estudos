{
 "cells": [
  {
   "cell_type": "code",
   "execution_count": 5,
   "id": "47c76190",
   "metadata": {},
   "outputs": [],
   "source": [
    "from cpf import Cpf\n",
    "\n",
    "cpf= 15398745687\n",
    "cpf_novo = 1111111111\n",
    "objeto_cpf = Cpf(cpf)\n",
    "\n",
    "print(objeto_cpf)"
   ]
  },
  {
   "cell_type": "code",
   "execution_count": 3,
   "id": "bba61e9d",
   "metadata": {},
   "outputs": [
    {
     "name": "stdout",
     "output_type": "stream",
     "text": [
      "Collecting validate-docbr\n",
      "  Downloading validate_docbr-1.10.0-py3-none-any.whl (18 kB)\n",
      "Installing collected packages: validate-docbr\n",
      "Successfully installed validate-docbr-1.10.0\n",
      "Note: you may need to restart the kernel to use updated packages.\n"
     ]
    }
   ],
   "source": [
    "#pip install validate-docbr"
   ]
  },
  {
   "cell_type": "code",
   "execution_count": 9,
   "id": "119d9030",
   "metadata": {},
   "outputs": [
    {
     "name": "stdout",
     "output_type": "stream",
     "text": [
      "False\n"
     ]
    }
   ],
   "source": [
    "from validate_docbr import CPF\n",
    "from cpf import Cpf\n",
    "\n",
    "cpf = CPF()\n",
    "\n",
    "print(cpf.validate(\"11111111111\"))"
   ]
  },
  {
   "cell_type": "code",
   "execution_count": 11,
   "id": "70197190",
   "metadata": {},
   "outputs": [
    {
     "name": "stdout",
     "output_type": "stream",
     "text": [
      "153.162.647-54\n"
     ]
    }
   ],
   "source": [
    "from cpf import Cpf\n",
    "\n",
    "cpf_um = Cpf(\"15316264754\")\n",
    "print(cpf_um)\n"
   ]
  },
  {
   "cell_type": "code",
   "execution_count": null,
   "id": "fa924461",
   "metadata": {},
   "outputs": [],
   "source": []
  }
 ],
 "metadata": {
  "kernelspec": {
   "display_name": "Python 3 (ipykernel)",
   "language": "python",
   "name": "python3"
  },
  "language_info": {
   "codemirror_mode": {
    "name": "ipython",
    "version": 3
   },
   "file_extension": ".py",
   "mimetype": "text/x-python",
   "name": "python",
   "nbconvert_exporter": "python",
   "pygments_lexer": "ipython3",
   "version": "3.9.12"
  }
 },
 "nbformat": 4,
 "nbformat_minor": 5
}
