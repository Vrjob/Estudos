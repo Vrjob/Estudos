{
 "cells": [
  {
   "cell_type": "code",
   "execution_count": 1,
   "id": "47c76190",
   "metadata": {},
   "outputs": [],
   "source": [
    "#from cpf import Cpf\n",
    "\n",
    "#cpf= 15398745687\n",
    "#cpf_novo = 1111111111\n",
    "#objeto_cpf = Cpf(cpf)\n",
    "\n",
    "#print(objeto_cpf)"
   ]
  },
  {
   "cell_type": "code",
   "execution_count": 2,
   "id": "bba61e9d",
   "metadata": {},
   "outputs": [],
   "source": [
    "#pip install validate-docbr"
   ]
  },
  {
   "cell_type": "code",
   "execution_count": 3,
   "id": "119d9030",
   "metadata": {},
   "outputs": [],
   "source": [
    "#from validate_docbr import CPF\n",
    "#from cpf import Cpf\n",
    "\n",
    "#cpf = CPF()\n",
    "\n",
    "#print(cpf.validate(\"11111111111\"))"
   ]
  },
  {
   "cell_type": "code",
   "execution_count": 4,
   "id": "70197190",
   "metadata": {},
   "outputs": [
    {
     "name": "stdout",
     "output_type": "stream",
     "text": [
      "153.162.647-54\n"
     ]
    }
   ],
   "source": [
    "from cpf import Cpf\n",
    "\n",
    "cpf_um = Cpf(\"15316264754\")\n",
    "print(cpf_um)\n"
   ]
  },
  {
   "cell_type": "code",
   "execution_count": 1,
   "id": "fa924461",
   "metadata": {},
   "outputs": [
    {
     "name": "stdout",
     "output_type": "stream",
     "text": [
      "Requirement already satisfied: validate-docbr in c:\\users\\victo\\appdata\\local\\programs\\python\\python311\\lib\\site-packages (1.10.0)\n",
      "Note: you may need to restart the kernel to use updated packages.\n"
     ]
    }
   ],
   "source": [
    "pip install validate-docbr"
   ]
  },
  {
   "cell_type": "code",
   "execution_count": null,
   "id": "a8b8ef1c",
   "metadata": {},
   "outputs": [],
   "source": []
  }
 ],
 "metadata": {
  "kernelspec": {
   "display_name": "Python 3",
   "language": "python",
   "name": "python3"
  },
  "language_info": {
   "codemirror_mode": {
    "name": "ipython",
    "version": 3
   },
   "file_extension": ".py",
   "mimetype": "text/x-python",
   "name": "python",
   "nbconvert_exporter": "python",
   "pygments_lexer": "ipython3",
   "version": "3.11.1"
  },
  "vscode": {
   "interpreter": {
    "hash": "42b656937b4a933dd4f2e8d91514cb79d2e9eaee0456c88f19c2cbdcb4377310"
   }
  }
 },
 "nbformat": 4,
 "nbformat_minor": 5
}
