{
 "cells": [
  {
   "cell_type": "code",
   "execution_count": 1,
   "metadata": {
    "colab": {
     "base_uri": "https://localhost:8080/",
     "height": 85
    },
    "colab_type": "code",
    "id": "i92eaEWHL_tu",
    "outputId": "c0d491e1-232d-4ebd-c8f8-ae749cc425ae"
   },
   "outputs": [
    {
     "name": "stdout",
     "output_type": "stream",
     "text": [
      "39\n",
      "30\n",
      "27\n",
      "18\n"
     ]
    }
   ],
   "source": [
    "idade1 = 39\n",
    "idade2 = 30\n",
    "idade3 = 27\n",
    "idade4 = 18\n",
    "\n",
    "print(idade1)\n",
    "print(idade2)\n",
    "print(idade3)\n",
    "print(idade4)"
   ]
  },
  {
   "cell_type": "code",
   "execution_count": 2,
   "metadata": {
    "colab": {},
    "colab_type": "code",
    "id": "27g6sNsIMZEL"
   },
   "outputs": [],
   "source": [
    "idades = [39, 30, 27, 18]"
   ]
  },
  {
   "cell_type": "code",
   "execution_count": 3,
   "metadata": {
    "colab": {
     "base_uri": "https://localhost:8080/",
     "height": 34
    },
    "colab_type": "code",
    "id": "nMoUaGF8MmuM",
    "outputId": "173b7453-3eed-48f3-e93f-2e15911eba3f"
   },
   "outputs": [
    {
     "data": {
      "text/plain": [
       "list"
      ]
     },
     "execution_count": 3,
     "metadata": {},
     "output_type": "execute_result"
    }
   ],
   "source": [
    "type(idades)"
   ]
  },
  {
   "cell_type": "code",
   "execution_count": 4,
   "metadata": {
    "colab": {
     "base_uri": "https://localhost:8080/",
     "height": 34
    },
    "colab_type": "code",
    "id": "693125bLMoQo",
    "outputId": "1ef39f03-fef6-453d-e569-14a8a4c63f59"
   },
   "outputs": [
    {
     "data": {
      "text/plain": [
       "4"
      ]
     },
     "execution_count": 4,
     "metadata": {},
     "output_type": "execute_result"
    }
   ],
   "source": [
    "len(idades)"
   ]
  },
  {
   "cell_type": "code",
   "execution_count": 5,
   "metadata": {
    "colab": {
     "base_uri": "https://localhost:8080/",
     "height": 34
    },
    "colab_type": "code",
    "id": "HhRSkKaNM70v",
    "outputId": "40450643-dc8e-46cf-d8d5-3db65e04fc92"
   },
   "outputs": [
    {
     "data": {
      "text/plain": [
       "39"
      ]
     },
     "execution_count": 5,
     "metadata": {},
     "output_type": "execute_result"
    }
   ],
   "source": [
    "idades[0]"
   ]
  },
  {
   "cell_type": "code",
   "execution_count": 6,
   "metadata": {
    "colab": {
     "base_uri": "https://localhost:8080/",
     "height": 34
    },
    "colab_type": "code",
    "id": "7Wra5jZLM_6e",
    "outputId": "af711792-7ea1-4d77-b86c-451468c5ac34"
   },
   "outputs": [
    {
     "data": {
      "text/plain": [
       "[39, 30, 27, 18]"
      ]
     },
     "execution_count": 6,
     "metadata": {},
     "output_type": "execute_result"
    }
   ],
   "source": [
    "idades"
   ]
  },
  {
   "cell_type": "code",
   "execution_count": 7,
   "metadata": {
    "colab": {
     "base_uri": "https://localhost:8080/",
     "height": 68
    },
    "colab_type": "code",
    "id": "NXyDZcsZNBJm",
    "outputId": "23ded952-0d37-4757-fd65-874fc313d2e8"
   },
   "outputs": [
    {
     "name": "stdout",
     "output_type": "stream",
     "text": [
      "30\n",
      "27\n",
      "18\n"
     ]
    }
   ],
   "source": [
    "print(idades[1])\n",
    "print(idades[2])\n",
    "print(idades[3])"
   ]
  },
  {
   "cell_type": "code",
   "execution_count": 8,
   "metadata": {
    "colab": {},
    "colab_type": "code",
    "id": "60CS-6vnNEzX"
   },
   "outputs": [],
   "source": [
    "idades.append(15)"
   ]
  },
  {
   "cell_type": "code",
   "execution_count": 9,
   "metadata": {
    "colab": {
     "base_uri": "https://localhost:8080/",
     "height": 34
    },
    "colab_type": "code",
    "id": "LgNGaf7FNSr-",
    "outputId": "ab98ddb0-4771-4fa1-83c3-8fec761f63f2"
   },
   "outputs": [
    {
     "data": {
      "text/plain": [
       "[39, 30, 27, 18, 15]"
      ]
     },
     "execution_count": 9,
     "metadata": {},
     "output_type": "execute_result"
    }
   ],
   "source": [
    "idades"
   ]
  },
  {
   "cell_type": "code",
   "execution_count": 10,
   "metadata": {
    "colab": {
     "base_uri": "https://localhost:8080/",
     "height": 34
    },
    "colab_type": "code",
    "id": "PqFCqcOvNT7h",
    "outputId": "c90b09b5-788e-4d6b-8608-aa28e3fa7b12"
   },
   "outputs": [
    {
     "data": {
      "text/plain": [
       "15"
      ]
     },
     "execution_count": 10,
     "metadata": {},
     "output_type": "execute_result"
    }
   ],
   "source": [
    "idades[4]"
   ]
  },
  {
   "cell_type": "code",
   "execution_count": 11,
   "metadata": {
    "colab": {
     "base_uri": "https://localhost:8080/",
     "height": 162
    },
    "colab_type": "code",
    "id": "aCzxDZ0CNVti",
    "outputId": "68318b7c-5a0e-4e70-e2f8-7f6e7fc836f2"
   },
   "outputs": [],
   "source": [
    "#idades[5]"
   ]
  },
  {
   "cell_type": "code",
   "execution_count": 12,
   "metadata": {
    "colab": {
     "base_uri": "https://localhost:8080/",
     "height": 102
    },
    "colab_type": "code",
    "id": "AXKjngwvNXLM",
    "outputId": "9dbce7fe-c444-4953-b2ff-146aae1a6c76"
   },
   "outputs": [
    {
     "name": "stdout",
     "output_type": "stream",
     "text": [
      "39\n",
      "30\n",
      "27\n",
      "18\n",
      "15\n"
     ]
    }
   ],
   "source": [
    "for idade in idades:\n",
    "  print(idade)"
   ]
  },
  {
   "cell_type": "code",
   "execution_count": 13,
   "metadata": {
    "colab": {},
    "colab_type": "code",
    "id": "e086OjeaNmWj"
   },
   "outputs": [],
   "source": [
    "idades.remove(30)"
   ]
  },
  {
   "cell_type": "code",
   "execution_count": 14,
   "metadata": {
    "colab": {
     "base_uri": "https://localhost:8080/",
     "height": 34
    },
    "colab_type": "code",
    "id": "5A6pLLh4No8s",
    "outputId": "da5bf327-6e03-4165-cc1e-5a92ad3397c1"
   },
   "outputs": [
    {
     "data": {
      "text/plain": [
       "[39, 27, 18, 15]"
      ]
     },
     "execution_count": 14,
     "metadata": {},
     "output_type": "execute_result"
    }
   ],
   "source": [
    "idades"
   ]
  },
  {
   "cell_type": "code",
   "execution_count": 15,
   "metadata": {
    "colab": {
     "base_uri": "https://localhost:8080/",
     "height": 162
    },
    "colab_type": "code",
    "id": "ojsePmRwNpy2",
    "outputId": "c4fd2036-f735-427a-b629-3d5e916fa81d"
   },
   "outputs": [],
   "source": [
    "#idades.remove(30)"
   ]
  },
  {
   "cell_type": "code",
   "execution_count": 16,
   "metadata": {
    "colab": {},
    "colab_type": "code",
    "id": "kkdK3t6nNsXW"
   },
   "outputs": [],
   "source": [
    "idades.append(15)"
   ]
  },
  {
   "cell_type": "code",
   "execution_count": 17,
   "metadata": {
    "colab": {
     "base_uri": "https://localhost:8080/",
     "height": 34
    },
    "colab_type": "code",
    "id": "caaWvENvNv8N",
    "outputId": "31438d95-b7cd-4ef8-8ab2-f743d430ab30"
   },
   "outputs": [
    {
     "data": {
      "text/plain": [
       "[39, 27, 18, 15, 15]"
      ]
     },
     "execution_count": 17,
     "metadata": {},
     "output_type": "execute_result"
    }
   ],
   "source": [
    "idades"
   ]
  },
  {
   "cell_type": "code",
   "execution_count": 18,
   "metadata": {
    "colab": {},
    "colab_type": "code",
    "id": "IZC0ENA1Nwso"
   },
   "outputs": [],
   "source": [
    "idades.remove(15)"
   ]
  },
  {
   "cell_type": "code",
   "execution_count": 19,
   "metadata": {
    "colab": {
     "base_uri": "https://localhost:8080/",
     "height": 34
    },
    "colab_type": "code",
    "id": "80fchrRGNx4A",
    "outputId": "f258feb2-c547-47eb-c18a-ae622c45320c"
   },
   "outputs": [
    {
     "data": {
      "text/plain": [
       "[39, 27, 18, 15]"
      ]
     },
     "execution_count": 19,
     "metadata": {},
     "output_type": "execute_result"
    }
   ],
   "source": [
    "idades"
   ]
  },
  {
   "cell_type": "code",
   "execution_count": 20,
   "metadata": {
    "colab": {
     "base_uri": "https://localhost:8080/",
     "height": 34
    },
    "colab_type": "code",
    "id": "yNWCUQupNycy",
    "outputId": "8ab8ebba-64a5-4e8d-c5b3-646d5d189d4d"
   },
   "outputs": [
    {
     "data": {
      "text/plain": [
       "[39, 18, 15, 27]"
      ]
     },
     "execution_count": 20,
     "metadata": {},
     "output_type": "execute_result"
    }
   ],
   "source": [
    "idades.append(27)\n",
    "idades.remove(27)\n",
    "idades"
   ]
  },
  {
   "cell_type": "code",
   "execution_count": 21,
   "metadata": {
    "colab": {
     "base_uri": "https://localhost:8080/",
     "height": 34
    },
    "colab_type": "code",
    "id": "Kot_FAOkN3g3",
    "outputId": "3882fb84-0ee9-4a8c-a941-dbd99df12e21"
   },
   "outputs": [
    {
     "data": {
      "text/plain": [
       "False"
      ]
     },
     "execution_count": 21,
     "metadata": {},
     "output_type": "execute_result"
    }
   ],
   "source": [
    "28 in idades"
   ]
  },
  {
   "cell_type": "code",
   "execution_count": 22,
   "metadata": {
    "colab": {
     "base_uri": "https://localhost:8080/",
     "height": 34
    },
    "colab_type": "code",
    "id": "DMmSks6eOmaX",
    "outputId": "9c95865e-6478-4171-baf3-fba15ea9f368"
   },
   "outputs": [
    {
     "data": {
      "text/plain": [
       "True"
      ]
     },
     "execution_count": 22,
     "metadata": {},
     "output_type": "execute_result"
    }
   ],
   "source": [
    "15 in idades"
   ]
  },
  {
   "cell_type": "code",
   "execution_count": 23,
   "metadata": {
    "colab": {},
    "colab_type": "code",
    "id": "N01sbE4xOoAF"
   },
   "outputs": [],
   "source": [
    "if 15 in idades:\n",
    "  idades.remove(15)"
   ]
  },
  {
   "cell_type": "code",
   "execution_count": 24,
   "metadata": {
    "colab": {
     "base_uri": "https://localhost:8080/",
     "height": 34
    },
    "colab_type": "code",
    "id": "U4Ozd7ZxOukR",
    "outputId": "e5f2a778-79b3-465a-c35b-52165b801d4a"
   },
   "outputs": [
    {
     "data": {
      "text/plain": [
       "[39, 18, 27]"
      ]
     },
     "execution_count": 24,
     "metadata": {},
     "output_type": "execute_result"
    }
   ],
   "source": [
    "idades"
   ]
  },
  {
   "cell_type": "code",
   "execution_count": 25,
   "metadata": {
    "colab": {},
    "colab_type": "code",
    "id": "SMgSWfVsOvrr"
   },
   "outputs": [],
   "source": [
    "if 28 in idades:\n",
    "  idades.remove(28)"
   ]
  },
  {
   "cell_type": "code",
   "execution_count": 26,
   "metadata": {
    "colab": {
     "base_uri": "https://localhost:8080/",
     "height": 34
    },
    "colab_type": "code",
    "id": "feOCw2UEOzaf",
    "outputId": "3dd5c2c3-5900-44a2-f03e-3b10533ebe72"
   },
   "outputs": [
    {
     "data": {
      "text/plain": [
       "[39, 18, 27]"
      ]
     },
     "execution_count": 26,
     "metadata": {},
     "output_type": "execute_result"
    }
   ],
   "source": [
    "idades"
   ]
  },
  {
   "cell_type": "code",
   "execution_count": 27,
   "metadata": {
    "colab": {
     "base_uri": "https://localhost:8080/",
     "height": 34
    },
    "colab_type": "code",
    "id": "v9GOmJkDO0QH",
    "outputId": "f1c52320-0c6d-4040-d6aa-e25e9dded507"
   },
   "outputs": [
    {
     "data": {
      "text/plain": [
       "[39, 18, 27, 19]"
      ]
     },
     "execution_count": 27,
     "metadata": {},
     "output_type": "execute_result"
    }
   ],
   "source": [
    "idades.append(19)\n",
    "idades"
   ]
  },
  {
   "cell_type": "code",
   "execution_count": 28,
   "metadata": {
    "colab": {
     "base_uri": "https://localhost:8080/",
     "height": 34
    },
    "colab_type": "code",
    "id": "EXZzTRCWO6LU",
    "outputId": "7fdd03d9-11e1-4959-ad13-1cd9c893e708"
   },
   "outputs": [
    {
     "data": {
      "text/plain": [
       "[20, 39, 18, 27, 19]"
      ]
     },
     "execution_count": 28,
     "metadata": {},
     "output_type": "execute_result"
    }
   ],
   "source": [
    "idades.insert(0, 20)\n",
    "idades"
   ]
  },
  {
   "cell_type": "code",
   "execution_count": 29,
   "metadata": {
    "colab": {
     "base_uri": "https://localhost:8080/",
     "height": 34
    },
    "colab_type": "code",
    "id": "yQ6QIHbVPDJm",
    "outputId": "ed2ee9e6-89be-43ce-84b6-d670f89072e9"
   },
   "outputs": [
    {
     "data": {
      "text/plain": [
       "[20, 39, 18]"
      ]
     },
     "execution_count": 29,
     "metadata": {},
     "output_type": "execute_result"
    }
   ],
   "source": [
    "idades = [20, 39, 18]\n",
    "idades"
   ]
  },
  {
   "cell_type": "code",
   "execution_count": 30,
   "metadata": {
    "colab": {},
    "colab_type": "code",
    "id": "1x5IZ3LxPKFw"
   },
   "outputs": [],
   "source": [
    "idades.append([27, 19])"
   ]
  },
  {
   "cell_type": "code",
   "execution_count": 31,
   "metadata": {
    "colab": {
     "base_uri": "https://localhost:8080/",
     "height": 34
    },
    "colab_type": "code",
    "id": "pbjqVYWcPNfa",
    "outputId": "12daf065-e911-4856-9e79-7bd126650158"
   },
   "outputs": [
    {
     "data": {
      "text/plain": [
       "[20, 39, 18, [27, 19]]"
      ]
     },
     "execution_count": 31,
     "metadata": {},
     "output_type": "execute_result"
    }
   ],
   "source": [
    "idades"
   ]
  },
  {
   "cell_type": "code",
   "execution_count": 32,
   "metadata": {
    "colab": {
     "base_uri": "https://localhost:8080/",
     "height": 85
    },
    "colab_type": "code",
    "id": "YJndRY-ZPTb8",
    "outputId": "603d54aa-483d-413c-e09a-63fde0c63d1a"
   },
   "outputs": [
    {
     "name": "stdout",
     "output_type": "stream",
     "text": [
      "Recebi o elemento 20\n",
      "Recebi o elemento 39\n",
      "Recebi o elemento 18\n",
      "Recebi o elemento [27, 19]\n"
     ]
    }
   ],
   "source": [
    "for elemento in idades:\n",
    "  print(\"Recebi o elemento\", elemento)"
   ]
  },
  {
   "cell_type": "code",
   "execution_count": 33,
   "metadata": {
    "colab": {
     "base_uri": "https://localhost:8080/",
     "height": 34
    },
    "colab_type": "code",
    "id": "Rt1JRcrIPZVL",
    "outputId": "0a179f7c-485d-4c40-9da4-8d0f4e742832"
   },
   "outputs": [
    {
     "data": {
      "text/plain": [
       "[20, 39, 18, 27, 19]"
      ]
     },
     "execution_count": 33,
     "metadata": {},
     "output_type": "execute_result"
    }
   ],
   "source": [
    "idades = [20, 39, 18]\n",
    "idades.extend([27, 19])\n",
    "idades"
   ]
  },
  {
   "cell_type": "code",
   "execution_count": 34,
   "metadata": {
    "colab": {
     "base_uri": "https://localhost:8080/",
     "height": 102
    },
    "colab_type": "code",
    "id": "2TqBUj41PwzS",
    "outputId": "ca968eee-7d9e-4c05-934c-05cda5c05282"
   },
   "outputs": [
    {
     "name": "stdout",
     "output_type": "stream",
     "text": [
      "21\n",
      "40\n",
      "19\n",
      "28\n",
      "20\n"
     ]
    }
   ],
   "source": [
    "for idade in idades:\n",
    "  print(idade + 1)"
   ]
  },
  {
   "cell_type": "code",
   "execution_count": 35,
   "metadata": {
    "colab": {
     "base_uri": "https://localhost:8080/",
     "height": 34
    },
    "colab_type": "code",
    "id": "-zU67OikQCJq",
    "outputId": "9450216c-d41d-408b-e42e-ce3ac724189b"
   },
   "outputs": [
    {
     "data": {
      "text/plain": [
       "[21, 40, 19, 28, 20]"
      ]
     },
     "execution_count": 35,
     "metadata": {},
     "output_type": "execute_result"
    }
   ],
   "source": [
    "idades_no_ano_que_vem = []\n",
    "for idade in idades:\n",
    "  idades_no_ano_que_vem.append(idade+1)\n",
    "idades_no_ano_que_vem"
   ]
  },
  {
   "cell_type": "code",
   "execution_count": 36,
   "metadata": {
    "colab": {
     "base_uri": "https://localhost:8080/",
     "height": 34
    },
    "colab_type": "code",
    "id": "P50Oyp-EQQrC",
    "outputId": "e82987c1-a14a-4034-92dc-7ddadc93f2c4"
   },
   "outputs": [
    {
     "data": {
      "text/plain": [
       "[21, 40, 19, 28, 20]"
      ]
     },
     "execution_count": 36,
     "metadata": {},
     "output_type": "execute_result"
    }
   ],
   "source": [
    "idades_no_ano_que_vem = [idade+1 for idade in idades]\n",
    "idades_no_ano_que_vem"
   ]
  },
  {
   "cell_type": "code",
   "execution_count": 37,
   "metadata": {
    "colab": {
     "base_uri": "https://localhost:8080/",
     "height": 34
    },
    "colab_type": "code",
    "id": "QdPT5ougQmvS",
    "outputId": "a1485d31-95f8-4fb9-a869-8bd87a84d6ce"
   },
   "outputs": [
    {
     "data": {
      "text/plain": [
       "[39, 27]"
      ]
     },
     "execution_count": 37,
     "metadata": {},
     "output_type": "execute_result"
    }
   ],
   "source": [
    "[idade for idade in idades if idade > 21]"
   ]
  },
  {
   "cell_type": "code",
   "execution_count": 38,
   "metadata": {
    "colab": {
     "base_uri": "https://localhost:8080/",
     "height": 34
    },
    "colab_type": "code",
    "id": "25Mg6X9zQ-U5",
    "outputId": "4ac8565f-715b-4be7-8f16-fc6a3b628613"
   },
   "outputs": [
    {
     "data": {
      "text/plain": [
       "[20, 39, 18, 27, 19]"
      ]
     },
     "execution_count": 38,
     "metadata": {},
     "output_type": "execute_result"
    }
   ],
   "source": [
    "idades"
   ]
  },
  {
   "cell_type": "code",
   "execution_count": 39,
   "metadata": {
    "colab": {
     "base_uri": "https://localhost:8080/",
     "height": 34
    },
    "colab_type": "code",
    "id": "feAiRsuTRAQ0",
    "outputId": "6e4dfa9e-acd0-4e82-dd55-f9c151b31717"
   },
   "outputs": [
    {
     "data": {
      "text/plain": [
       "[40, 28]"
      ]
     },
     "execution_count": 39,
     "metadata": {},
     "output_type": "execute_result"
    }
   ],
   "source": [
    "def proximo_ano(idade):\n",
    "  return idade+1\n",
    "\n",
    "[proximo_ano(idade) for idade in idades if idade > 21]"
   ]
  },
  {
   "cell_type": "code",
   "execution_count": 40,
   "metadata": {
    "colab": {},
    "colab_type": "code",
    "id": "zHFn9PYHSY3Z"
   },
   "outputs": [],
   "source": [
    "def faz_processamento_de_visualizacao(lista):\n",
    "  print(len(lista))\n",
    "  lista.append(13)"
   ]
  },
  {
   "cell_type": "code",
   "execution_count": 41,
   "metadata": {
    "colab": {
     "base_uri": "https://localhost:8080/",
     "height": 51
    },
    "colab_type": "code",
    "id": "7nWLQ7t-SqT3",
    "outputId": "1047efb7-feb3-4ef5-e9ee-d387d3a7b3a8"
   },
   "outputs": [
    {
     "name": "stdout",
     "output_type": "stream",
     "text": [
      "5\n"
     ]
    },
    {
     "data": {
      "text/plain": [
       "[16, 21, 29, 56, 43, 13]"
      ]
     },
     "execution_count": 41,
     "metadata": {},
     "output_type": "execute_result"
    }
   ],
   "source": [
    "idades = [16, 21, 29, 56, 43]\n",
    "faz_processamento_de_visualizacao(idades)\n",
    "idades"
   ]
  },
  {
   "cell_type": "code",
   "execution_count": 42,
   "metadata": {
    "colab": {},
    "colab_type": "code",
    "id": "k8n9XUouSvXc"
   },
   "outputs": [],
   "source": [
    "def faz_processamento_de_visualizacao(lista = []):\n",
    "  print(len(lista))\n",
    "  print(lista)\n",
    "  lista.append(13)"
   ]
  },
  {
   "cell_type": "code",
   "execution_count": 43,
   "metadata": {
    "colab": {
     "base_uri": "https://localhost:8080/",
     "height": 51
    },
    "colab_type": "code",
    "id": "p-KkKf-6Tplr",
    "outputId": "942b9a8b-296d-4e2a-89f1-3885e59b6a70"
   },
   "outputs": [
    {
     "name": "stdout",
     "output_type": "stream",
     "text": [
      "0\n",
      "[]\n"
     ]
    }
   ],
   "source": [
    "faz_processamento_de_visualizacao()"
   ]
  },
  {
   "cell_type": "code",
   "execution_count": 44,
   "metadata": {
    "colab": {
     "base_uri": "https://localhost:8080/",
     "height": 51
    },
    "colab_type": "code",
    "id": "29p5f7fOTs9h",
    "outputId": "9784811e-4b84-450e-9040-6644a05c64ff"
   },
   "outputs": [
    {
     "name": "stdout",
     "output_type": "stream",
     "text": [
      "1\n",
      "[13]\n"
     ]
    }
   ],
   "source": [
    "faz_processamento_de_visualizacao()"
   ]
  },
  {
   "cell_type": "code",
   "execution_count": 45,
   "metadata": {
    "colab": {
     "base_uri": "https://localhost:8080/",
     "height": 51
    },
    "colab_type": "code",
    "id": "DWP6B6DuTu0j",
    "outputId": "585bf5ff-7df8-4e96-c2e6-53d30b35e4bd"
   },
   "outputs": [
    {
     "name": "stdout",
     "output_type": "stream",
     "text": [
      "2\n",
      "[13, 13]\n"
     ]
    }
   ],
   "source": [
    "faz_processamento_de_visualizacao()"
   ]
  },
  {
   "cell_type": "code",
   "execution_count": 46,
   "metadata": {
    "colab": {
     "base_uri": "https://localhost:8080/",
     "height": 51
    },
    "colab_type": "code",
    "id": "HYbSLIiSTwOB",
    "outputId": "dcae48ae-0be6-4f48-d0b6-c39cbf23f6ca"
   },
   "outputs": [
    {
     "name": "stdout",
     "output_type": "stream",
     "text": [
      "3\n",
      "[13, 13, 13]\n"
     ]
    }
   ],
   "source": [
    "faz_processamento_de_visualizacao()"
   ]
  },
  {
   "cell_type": "code",
   "execution_count": 47,
   "metadata": {
    "colab": {},
    "colab_type": "code",
    "id": "vS-8-DHiTxdh"
   },
   "outputs": [],
   "source": [
    "def faz_processamento_de_visualizacao(lista = list()):\n",
    "  print(len(lista))\n",
    "  print(lista)\n",
    "  lista.append(13)"
   ]
  },
  {
   "cell_type": "code",
   "execution_count": 48,
   "metadata": {
    "colab": {
     "base_uri": "https://localhost:8080/",
     "height": 85
    },
    "colab_type": "code",
    "id": "lCMngXMGUKli",
    "outputId": "113fdde7-307e-4659-d01a-e09dfaf39d14"
   },
   "outputs": [
    {
     "name": "stdout",
     "output_type": "stream",
     "text": [
      "0\n",
      "[]\n",
      "1\n",
      "[13]\n"
     ]
    }
   ],
   "source": [
    "faz_processamento_de_visualizacao()\n",
    "faz_processamento_de_visualizacao()"
   ]
  },
  {
   "cell_type": "code",
   "execution_count": 49,
   "metadata": {
    "colab": {},
    "colab_type": "code",
    "id": "5sMp0XuKUMVf"
   },
   "outputs": [],
   "source": [
    "def faz_processamento_de_visualizacao(lista = None):\n",
    "  if lista == None:\n",
    "    lista = list()\n",
    "  print(len(lista))\n",
    "  print(lista)\n",
    "  lista.append(13)"
   ]
  },
  {
   "cell_type": "code",
   "execution_count": 50,
   "metadata": {
    "colab": {
     "base_uri": "https://localhost:8080/",
     "height": 151
    },
    "colab_type": "code",
    "id": "2LxsmPtaUU-D",
    "outputId": "f364267c-5a08-4860-c5b6-edf36b2e4061"
   },
   "outputs": [
    {
     "name": "stdout",
     "output_type": "stream",
     "text": [
      "0\n",
      "[]\n",
      "0\n",
      "[]\n",
      "0\n",
      "[]\n",
      "0\n",
      "[]\n"
     ]
    }
   ],
   "source": [
    "faz_processamento_de_visualizacao()\n",
    "faz_processamento_de_visualizacao()\n",
    "faz_processamento_de_visualizacao()\n",
    "faz_processamento_de_visualizacao()"
   ]
  },
  {
   "cell_type": "markdown",
   "metadata": {
    "colab_type": "text",
    "id": "nSLRH36CABiH"
   },
   "source": [
    "# Objetos próprios"
   ]
  },
  {
   "cell_type": "code",
   "execution_count": 51,
   "metadata": {
    "colab": {},
    "colab_type": "code",
    "id": "xD-vMk2iUYst"
   },
   "outputs": [],
   "source": [
    "class ContaCorrente:\n",
    "  \n",
    "  def __init__(self, codigo):\n",
    "    self.codigo = codigo\n",
    "    self.saldo = 0\n",
    "\n",
    "  def deposita(self, valor):\n",
    "    self.saldo += valor\n",
    "    \n",
    "  def __str__(self):\n",
    "    return \"[>>Codigo {} Saldo {}<<]\".format(self.codigo, self.saldo)\n",
    "  "
   ]
  },
  {
   "cell_type": "code",
   "execution_count": 52,
   "metadata": {
    "colab": {
     "base_uri": "https://localhost:8080/",
     "height": 34
    },
    "colab_type": "code",
    "id": "iX4AWuRnAoI-",
    "outputId": "6ad0dbb9-bfa0-46b3-9ba6-98866721fe9c"
   },
   "outputs": [
    {
     "name": "stdout",
     "output_type": "stream",
     "text": [
      "[>>Codigo 15 Saldo 0<<]\n"
     ]
    }
   ],
   "source": [
    "conta_do_gui = ContaCorrente(15)\n",
    "print(conta_do_gui)"
   ]
  },
  {
   "cell_type": "code",
   "execution_count": 53,
   "metadata": {
    "colab": {
     "base_uri": "https://localhost:8080/",
     "height": 34
    },
    "colab_type": "code",
    "id": "34S7rISWAtDp",
    "outputId": "39f4be9e-d3ad-4c8a-dba9-bd8b8fb5f724"
   },
   "outputs": [
    {
     "name": "stdout",
     "output_type": "stream",
     "text": [
      "[>>Codigo 15 Saldo 500<<]\n"
     ]
    }
   ],
   "source": [
    "conta_do_gui.deposita(500)\n",
    "print(conta_do_gui)"
   ]
  },
  {
   "cell_type": "code",
   "execution_count": 54,
   "metadata": {
    "colab": {
     "base_uri": "https://localhost:8080/",
     "height": 34
    },
    "colab_type": "code",
    "id": "RT5bL1mwAyFv",
    "outputId": "86129672-500a-4a31-fe9e-7dbef43b3903"
   },
   "outputs": [
    {
     "name": "stdout",
     "output_type": "stream",
     "text": [
      "[>>Codigo 47685 Saldo 1000<<]\n"
     ]
    }
   ],
   "source": [
    "conta_da_dani = ContaCorrente(47685)\n",
    "conta_da_dani.deposita(1000)\n",
    "print(conta_da_dani)"
   ]
  },
  {
   "cell_type": "code",
   "execution_count": 55,
   "metadata": {
    "colab": {
     "base_uri": "https://localhost:8080/",
     "height": 50
    },
    "colab_type": "code",
    "id": "a6vhFnxqA5Tb",
    "outputId": "0b39017c-8d8f-4de4-f9d2-6b1d6b15f4ec"
   },
   "outputs": [
    {
     "name": "stdout",
     "output_type": "stream",
     "text": [
      "[>>Codigo 15 Saldo 500<<]\n",
      "[>>Codigo 47685 Saldo 1000<<]\n"
     ]
    }
   ],
   "source": [
    "contas = [conta_do_gui, conta_da_dani]\n",
    "for conta in contas:\n",
    "  print(conta)"
   ]
  },
  {
   "cell_type": "code",
   "execution_count": 56,
   "metadata": {
    "colab": {},
    "colab_type": "code",
    "id": "X3zR5sx8A-_J"
   },
   "outputs": [],
   "source": [
    "contas = [conta_do_gui, conta_da_dani, conta_do_gui]"
   ]
  },
  {
   "cell_type": "code",
   "execution_count": 57,
   "metadata": {
    "colab": {
     "base_uri": "https://localhost:8080/",
     "height": 34
    },
    "colab_type": "code",
    "id": "UKIQ1bkMBVk8",
    "outputId": "4f2e2703-d559-4182-9771-c72293d8ef47"
   },
   "outputs": [
    {
     "name": "stdout",
     "output_type": "stream",
     "text": [
      "[>>Codigo 15 Saldo 500<<]\n"
     ]
    }
   ],
   "source": [
    "print(contas[0])"
   ]
  },
  {
   "cell_type": "code",
   "execution_count": 58,
   "metadata": {
    "colab": {},
    "colab_type": "code",
    "id": "B1icEA1JBYm2"
   },
   "outputs": [],
   "source": [
    "conta_do_gui.deposita(100)"
   ]
  },
  {
   "cell_type": "code",
   "execution_count": 59,
   "metadata": {
    "colab": {
     "base_uri": "https://localhost:8080/",
     "height": 34
    },
    "colab_type": "code",
    "id": "p_ZkStLRBc7Y",
    "outputId": "597eb930-e8c8-40f7-ddc2-cb03d19406a8"
   },
   "outputs": [
    {
     "name": "stdout",
     "output_type": "stream",
     "text": [
      "[>>Codigo 15 Saldo 600<<]\n"
     ]
    }
   ],
   "source": [
    "print(contas[0])"
   ]
  },
  {
   "cell_type": "code",
   "execution_count": 60,
   "metadata": {
    "colab": {
     "base_uri": "https://localhost:8080/",
     "height": 34
    },
    "colab_type": "code",
    "id": "ux-dx00DBfE5",
    "outputId": "3561a778-7c7c-4fb4-fb3b-654aaf65808a"
   },
   "outputs": [
    {
     "name": "stdout",
     "output_type": "stream",
     "text": [
      "[>>Codigo 15 Saldo 600<<]\n"
     ]
    }
   ],
   "source": [
    "print(conta_do_gui)"
   ]
  },
  {
   "cell_type": "code",
   "execution_count": 61,
   "metadata": {
    "colab": {
     "base_uri": "https://localhost:8080/",
     "height": 34
    },
    "colab_type": "code",
    "id": "tUeW-YgvBh69",
    "outputId": "e8b8525c-321c-4aa9-d87a-95b8dd5943b0"
   },
   "outputs": [
    {
     "name": "stdout",
     "output_type": "stream",
     "text": [
      "[>>Codigo 15 Saldo 600<<]\n"
     ]
    }
   ],
   "source": [
    "print(contas[2])"
   ]
  },
  {
   "cell_type": "code",
   "execution_count": 62,
   "metadata": {
    "colab": {},
    "colab_type": "code",
    "id": "FfxPIh3OB3Mi"
   },
   "outputs": [],
   "source": [
    "contas[2].deposita(300)"
   ]
  },
  {
   "cell_type": "code",
   "execution_count": 63,
   "metadata": {
    "colab": {
     "base_uri": "https://localhost:8080/",
     "height": 34
    },
    "colab_type": "code",
    "id": "6KAQeXTyCCG-",
    "outputId": "09da6ae8-e507-40a6-f7b2-b3d2fe4e4cd6"
   },
   "outputs": [
    {
     "name": "stdout",
     "output_type": "stream",
     "text": [
      "[>>Codigo 15 Saldo 900<<]\n"
     ]
    }
   ],
   "source": [
    "print(conta_do_gui)"
   ]
  },
  {
   "cell_type": "code",
   "execution_count": 64,
   "metadata": {
    "colab": {
     "base_uri": "https://localhost:8080/",
     "height": 50
    },
    "colab_type": "code",
    "id": "FmaNTI6UCECK",
    "outputId": "04d22cd0-7cfc-444d-b5fe-0aa910359a0e"
   },
   "outputs": [
    {
     "name": "stdout",
     "output_type": "stream",
     "text": [
      "[>>Codigo 15 Saldo 900<<] [>>Codigo 47685 Saldo 1000<<]\n",
      "[>>Codigo 15 Saldo 1000<<] [>>Codigo 47685 Saldo 1100<<]\n"
     ]
    }
   ],
   "source": [
    "def deposita_para_todas(contas):\n",
    "  for conta in contas:\n",
    "    conta.deposita(100)\n",
    "\n",
    "contas = [conta_do_gui, conta_da_dani]\n",
    "print(contas[0], contas[1])\n",
    "deposita_para_todas(contas)\n",
    "print(contas[0], contas[1])"
   ]
  },
  {
   "cell_type": "code",
   "execution_count": 65,
   "metadata": {
    "colab": {
     "base_uri": "https://localhost:8080/",
     "height": 34
    },
    "colab_type": "code",
    "id": "2ziWV7k6D1jf",
    "outputId": "d15c5c5b-e0d8-471f-f052-be2612ecadbf"
   },
   "outputs": [
    {
     "name": "stdout",
     "output_type": "stream",
     "text": [
      "76 [>>Codigo 15 Saldo 1000<<] [>>Codigo 47685 Saldo 1100<<]\n"
     ]
    }
   ],
   "source": [
    "contas.insert(0,76)\n",
    "print(contas[0], contas[1], contas[2])"
   ]
  },
  {
   "cell_type": "code",
   "execution_count": 66,
   "metadata": {
    "colab": {
     "base_uri": "https://localhost:8080/",
     "height": 297
    },
    "colab_type": "code",
    "id": "u4oCdsKpEKkX",
    "outputId": "bccf60fa-10ab-4c6f-db4b-e929a710b97a"
   },
   "outputs": [],
   "source": [
    "#deposita_para_todas(contas)\n",
    "#print(contas[0], contas[1], contas[2])"
   ]
  },
  {
   "cell_type": "code",
   "execution_count": 67,
   "metadata": {
    "colab": {},
    "colab_type": "code",
    "id": "zJ2GmpD5EXJW"
   },
   "outputs": [],
   "source": [
    "guilherme = ('Guilherme', 37, 1981) # tupla\n",
    "daniela = ('Daniela', 31, 1987)\n",
    "# paulo = (39, 'Paulo', 1979) # ruim"
   ]
  },
  {
   "cell_type": "code",
   "execution_count": 68,
   "metadata": {
    "colab": {
     "base_uri": "https://localhost:8080/",
     "height": 162
    },
    "colab_type": "code",
    "id": "s19TLKmqFOON",
    "outputId": "82d31f21-c9ca-4b4e-8003-cdff73c1df8e"
   },
   "outputs": [],
   "source": [
    "#guilherme.append(6754)"
   ]
  },
  {
   "cell_type": "code",
   "execution_count": 69,
   "metadata": {
    "colab": {
     "base_uri": "https://localhost:8080/",
     "height": 34
    },
    "colab_type": "code",
    "id": "N5fhlteuFP_a",
    "outputId": "9ec2c241-3709-4b34-fc1c-a1cfb36d412e"
   },
   "outputs": [
    {
     "data": {
      "text/plain": [
       "1000"
      ]
     },
     "execution_count": 69,
     "metadata": {},
     "output_type": "execute_result"
    }
   ],
   "source": [
    "conta_do_gui = (15, 1000)\n",
    "# conta_do_gui.deposita() # variação OO\n",
    "conta_do_gui[1]"
   ]
  },
  {
   "cell_type": "code",
   "execution_count": 70,
   "metadata": {
    "colab": {
     "base_uri": "https://localhost:8080/",
     "height": 162
    },
    "colab_type": "code",
    "id": "vfsyYmjwF5b8",
    "outputId": "6a16b79f-ff85-463b-c283-7859f9d3ff90"
   },
   "outputs": [],
   "source": [
    "#conta_do_gui[1] += 100"
   ]
  },
  {
   "cell_type": "code",
   "execution_count": 71,
   "metadata": {
    "colab": {},
    "colab_type": "code",
    "id": "uJcl3XRdF7d6"
   },
   "outputs": [],
   "source": [
    "def deposita(conta): # variação \"funcional\"(separando o comportamento dos dados)\n",
    "  novo_saldo = conta[1] + 100\n",
    "  codigo = conta[0]\n",
    "  return (codigo, novo_saldo)"
   ]
  },
  {
   "cell_type": "code",
   "execution_count": 72,
   "metadata": {
    "colab": {
     "base_uri": "https://localhost:8080/",
     "height": 34
    },
    "colab_type": "code",
    "id": "mLBon2SXGNWp",
    "outputId": "e084672f-9572-4179-c586-a2e530740c8e"
   },
   "outputs": [
    {
     "data": {
      "text/plain": [
       "(15, 1100)"
      ]
     },
     "execution_count": 72,
     "metadata": {},
     "output_type": "execute_result"
    }
   ],
   "source": [
    "deposita(conta_do_gui)"
   ]
  },
  {
   "cell_type": "code",
   "execution_count": 73,
   "metadata": {
    "colab": {
     "base_uri": "https://localhost:8080/",
     "height": 34
    },
    "colab_type": "code",
    "id": "44tCMGtOGPsL",
    "outputId": "26f4bb35-d858-42e5-e390-2548d56aecd7"
   },
   "outputs": [
    {
     "data": {
      "text/plain": [
       "(15, 1000)"
      ]
     },
     "execution_count": 73,
     "metadata": {},
     "output_type": "execute_result"
    }
   ],
   "source": [
    "conta_do_gui"
   ]
  },
  {
   "cell_type": "code",
   "execution_count": 74,
   "metadata": {
    "colab": {
     "base_uri": "https://localhost:8080/",
     "height": 34
    },
    "colab_type": "code",
    "id": "6HC3jJ5XGSSe",
    "outputId": "b444bb6f-a3b5-46f0-d776-b79fd4edd33f"
   },
   "outputs": [
    {
     "data": {
      "text/plain": [
       "(15, 1100)"
      ]
     },
     "execution_count": 74,
     "metadata": {},
     "output_type": "execute_result"
    }
   ],
   "source": [
    "conta_do_gui = deposita(conta_do_gui)\n",
    "conta_do_gui"
   ]
  },
  {
   "cell_type": "code",
   "execution_count": 75,
   "metadata": {
    "colab": {
     "base_uri": "https://localhost:8080/",
     "height": 34
    },
    "colab_type": "code",
    "id": "D7yIlJNYGVoc",
    "outputId": "5d007de3-1928-4e66-f818-355f72a01acf"
   },
   "outputs": [
    {
     "data": {
      "text/plain": [
       "[('Guilherme', 37, 1981), ('Daniela', 31, 1987)]"
      ]
     },
     "execution_count": 75,
     "metadata": {},
     "output_type": "execute_result"
    }
   ],
   "source": [
    "usuarios = [guilherme, daniela]\n",
    "usuarios"
   ]
  },
  {
   "cell_type": "code",
   "execution_count": 76,
   "metadata": {
    "colab": {},
    "colab_type": "code",
    "id": "2UUDEfEcHWbM"
   },
   "outputs": [],
   "source": [
    "usuarios.append(('Paulo', 39, 1979))"
   ]
  },
  {
   "cell_type": "code",
   "execution_count": 77,
   "metadata": {
    "colab": {
     "base_uri": "https://localhost:8080/",
     "height": 34
    },
    "colab_type": "code",
    "id": "XgqCK2msHf6z",
    "outputId": "04bcc8c9-23ad-4742-e117-aa730e4f30c7"
   },
   "outputs": [
    {
     "data": {
      "text/plain": [
       "[('Guilherme', 37, 1981), ('Daniela', 31, 1987), ('Paulo', 39, 1979)]"
      ]
     },
     "execution_count": 77,
     "metadata": {},
     "output_type": "execute_result"
    }
   ],
   "source": [
    "usuarios"
   ]
  },
  {
   "cell_type": "code",
   "execution_count": 78,
   "metadata": {
    "colab": {
     "base_uri": "https://localhost:8080/",
     "height": 162
    },
    "colab_type": "code",
    "id": "Ce9HE5C1Hg-W",
    "outputId": "5bd64715-ae50-45ad-ab75-0d8d8b05e57b"
   },
   "outputs": [],
   "source": [
    "#usuarios[0][0] = 'Guilherme Silveira'\n"
   ]
  },
  {
   "cell_type": "code",
   "execution_count": 79,
   "metadata": {
    "colab": {},
    "colab_type": "code",
    "id": "m6jx16xDHoGo"
   },
   "outputs": [],
   "source": [
    "conta_do_gui = ContaCorrente(15)\n",
    "conta_do_gui.deposita(500)\n",
    "conta_da_dani = ContaCorrente(234876)\n",
    "conta_da_dani.deposita(1000)\n",
    "\n",
    "contas = (conta_do_gui, conta_da_dani)"
   ]
  },
  {
   "cell_type": "code",
   "execution_count": 80,
   "metadata": {
    "colab": {
     "base_uri": "https://localhost:8080/",
     "height": 50
    },
    "colab_type": "code",
    "id": "1oJCswAdIFza",
    "outputId": "81c895b3-4420-44c6-9193-f0eca4f0ea85"
   },
   "outputs": [
    {
     "name": "stdout",
     "output_type": "stream",
     "text": [
      "[>>Codigo 15 Saldo 500<<]\n",
      "[>>Codigo 234876 Saldo 1000<<]\n"
     ]
    }
   ],
   "source": [
    "for conta in contas:\n",
    "  print(conta)"
   ]
  },
  {
   "cell_type": "code",
   "execution_count": 81,
   "metadata": {
    "colab": {
     "base_uri": "https://localhost:8080/",
     "height": 162
    },
    "colab_type": "code",
    "id": "VOyxcyruIIP4",
    "outputId": "1ca8f881-47ec-4d94-8b7b-6b15e5431a68"
   },
   "outputs": [],
   "source": [
    "#contas.append(423768)"
   ]
  },
  {
   "cell_type": "code",
   "execution_count": 82,
   "metadata": {
    "colab": {},
    "colab_type": "code",
    "id": "RPH0pv0QIRNQ"
   },
   "outputs": [],
   "source": [
    "contas[0].deposita(300)"
   ]
  },
  {
   "cell_type": "code",
   "execution_count": 83,
   "metadata": {
    "colab": {
     "base_uri": "https://localhost:8080/",
     "height": 50
    },
    "colab_type": "code",
    "id": "SXMP9_n7Idnc",
    "outputId": "be5fb4e0-3a59-4cff-fe97-35f52949e5ed"
   },
   "outputs": [
    {
     "name": "stdout",
     "output_type": "stream",
     "text": [
      "[>>Codigo 15 Saldo 800<<]\n",
      "[>>Codigo 234876 Saldo 1000<<]\n"
     ]
    }
   ],
   "source": [
    "for conta in contas:\n",
    "  print(conta)"
   ]
  },
  {
   "cell_type": "markdown",
   "metadata": {
    "colab_type": "text",
    "id": "rWZNChEuJ1kc"
   },
   "source": [
    "# Herança e polimorfismo"
   ]
  },
  {
   "cell_type": "code",
   "execution_count": 84,
   "metadata": {
    "colab": {},
    "colab_type": "code",
    "id": "ZsviVdovJovn"
   },
   "outputs": [],
   "source": [
    "from abc import ABCMeta, abstractmethod\n",
    "\n",
    "class Conta(metaclass=ABCMeta):\n",
    "  \n",
    "  def __init__(self, codigo):\n",
    "    self._codigo = codigo\n",
    "    self._saldo = 0\n",
    "\n",
    "  def deposita(self, valor):\n",
    "    self._saldo += valor\n",
    "\n",
    "  @abstractmethod\n",
    "  def passa_o_mes(self):\n",
    "    pass\n",
    "\n",
    "  def __str__(self):\n",
    "    return \"[>>Codigo {} Saldo {}<<]\".format(self._codigo, self._saldo)\n",
    "  "
   ]
  },
  {
   "cell_type": "code",
   "execution_count": 85,
   "metadata": {
    "colab": {
     "base_uri": "https://localhost:8080/",
     "height": 162
    },
    "colab_type": "code",
    "id": "XUBuabHEKA0h",
    "outputId": "18d8946c-3118-4985-b73e-ed863e20db6e"
   },
   "outputs": [],
   "source": [
    "#print(Conta(88))"
   ]
  },
  {
   "cell_type": "code",
   "execution_count": 86,
   "metadata": {
    "colab": {},
    "colab_type": "code",
    "id": "bpvPLgAzKCdI"
   },
   "outputs": [],
   "source": [
    "class ContaCorrente(Conta):\n",
    "  \n",
    "  def passa_o_mes(self):\n",
    "    self._saldo -= 2\n",
    "    \n",
    "class ContaPoupanca(Conta):\n",
    "  \n",
    "  def passa_o_mes(self):\n",
    "    self._saldo *= 1.01\n",
    "    self._saldo -= 3\n",
    "\n",
    "class ContaInvestimento(Conta):\n",
    "  pass"
   ]
  },
  {
   "cell_type": "code",
   "execution_count": 87,
   "metadata": {
    "colab": {
     "base_uri": "https://localhost:8080/",
     "height": 162
    },
    "colab_type": "code",
    "id": "NzE5-qiROiMe",
    "outputId": "33f3f1d1-e393-45f6-a618-89795840745b"
   },
   "outputs": [],
   "source": [
    "#ContaInvestimento(764)"
   ]
  },
  {
   "cell_type": "code",
   "execution_count": 88,
   "metadata": {
    "colab": {
     "base_uri": "https://localhost:8080/",
     "height": 34
    },
    "colab_type": "code",
    "id": "o69xY6DIKXll",
    "outputId": "83c31e1c-defb-44c6-da53-385a4fa02028"
   },
   "outputs": [
    {
     "name": "stdout",
     "output_type": "stream",
     "text": [
      "[>>Codigo 16 Saldo 998<<]\n"
     ]
    }
   ],
   "source": [
    "conta16 = ContaCorrente(16)\n",
    "conta16.deposita(1000)\n",
    "conta16.passa_o_mes()\n",
    "print(conta16)"
   ]
  },
  {
   "cell_type": "code",
   "execution_count": 89,
   "metadata": {
    "colab": {
     "base_uri": "https://localhost:8080/",
     "height": 34
    },
    "colab_type": "code",
    "id": "6zL6cygQKhNW",
    "outputId": "fdc70c9c-56a6-4e5f-ef26-cd1c26887620"
   },
   "outputs": [
    {
     "name": "stdout",
     "output_type": "stream",
     "text": [
      "[>>Codigo 17 Saldo 1007.0<<]\n"
     ]
    }
   ],
   "source": [
    "conta17 = ContaPoupanca(17)\n",
    "conta17.deposita(1000)\n",
    "conta17.passa_o_mes()\n",
    "print(conta17)"
   ]
  },
  {
   "cell_type": "code",
   "execution_count": 90,
   "metadata": {
    "colab": {
     "base_uri": "https://localhost:8080/",
     "height": 50
    },
    "colab_type": "code",
    "id": "RTud1ebOKlpz",
    "outputId": "1cc66628-e2a0-4e29-8e7d-326e81d351c7"
   },
   "outputs": [
    {
     "name": "stdout",
     "output_type": "stream",
     "text": [
      "[>>Codigo 16 Saldo 998<<]\n",
      "[>>Codigo 17 Saldo 1007.0<<]\n"
     ]
    }
   ],
   "source": [
    "conta16 = ContaCorrente(16)\n",
    "conta16.deposita(1000)\n",
    "conta17 = ContaPoupanca(17)\n",
    "conta17.deposita(1000)\n",
    "contas = [conta16, conta17]\n",
    "\n",
    "for conta in contas:\n",
    "  conta.passa_o_mes() # duck typing\n",
    "  print(conta)"
   ]
  },
  {
   "cell_type": "markdown",
   "metadata": {
    "colab_type": "text",
    "id": "VdIcEPnhL5a0"
   },
   "source": [
    "# evitaremos usar array puro. se precisamos de trabalho numérico, é costume usar o numpy"
   ]
  },
  {
   "cell_type": "code",
   "execution_count": 91,
   "metadata": {
    "colab": {
     "base_uri": "https://localhost:8080/",
     "height": 34
    },
    "colab_type": "code",
    "id": "1e7xmL0aK94h",
    "outputId": "f9cdbc14-1478-48e1-f639-1c5ed683c827"
   },
   "outputs": [
    {
     "data": {
      "text/plain": [
       "array('d', [1.0, 3.5])"
      ]
     },
     "execution_count": 91,
     "metadata": {},
     "output_type": "execute_result"
    }
   ],
   "source": [
    "import array as arr\n",
    "\n",
    "arr.array('d', [1, 3.5])"
   ]
  },
  {
   "cell_type": "code",
   "execution_count": 92,
   "metadata": {
    "colab": {
     "base_uri": "https://localhost:8080/",
     "height": 162
    },
    "colab_type": "code",
    "id": "j4SCxUVhMHci",
    "outputId": "1eaba267-891f-4cfc-9da6-215e53df46f1"
   },
   "outputs": [],
   "source": [
    "#arr.array('d', [1, 3.5, 'Guilherme'])"
   ]
  },
  {
   "cell_type": "code",
   "execution_count": 93,
   "metadata": {
    "colab": {
     "base_uri": "https://localhost:8080/",
     "height": 34
    },
    "colab_type": "code",
    "id": "rxLtAyrSMm_O",
    "outputId": "ef476e7e-cfa9-4613-93e6-1edbbe14c5ae"
   },
   "outputs": [],
   "source": [
    "#!pip install numpy"
   ]
  },
  {
   "cell_type": "code",
   "execution_count": 94,
   "metadata": {
    "colab": {
     "base_uri": "https://localhost:8080/",
     "height": 34
    },
    "colab_type": "code",
    "id": "lNhZ4sqPMVRE",
    "outputId": "e704341e-5b7b-4ab8-cfb1-d87c8d2c97f6"
   },
   "outputs": [
    {
     "data": {
      "text/plain": [
       "array([1. , 3.5])"
      ]
     },
     "execution_count": 94,
     "metadata": {},
     "output_type": "execute_result"
    }
   ],
   "source": [
    "import numpy as np\n",
    "\n",
    "numeros = np.array([1, 3.5])\n",
    "numeros"
   ]
  },
  {
   "cell_type": "code",
   "execution_count": 95,
   "metadata": {
    "colab": {
     "base_uri": "https://localhost:8080/",
     "height": 34
    },
    "colab_type": "code",
    "id": "_RlgvvTjMv47",
    "outputId": "c0cc5bd5-e530-4b8d-f72d-6244a3c03682"
   },
   "outputs": [
    {
     "data": {
      "text/plain": [
       "array([4. , 6.5])"
      ]
     },
     "execution_count": 95,
     "metadata": {},
     "output_type": "execute_result"
    }
   ],
   "source": [
    "numeros + 3"
   ]
  },
  {
   "cell_type": "code",
   "execution_count": 96,
   "metadata": {
    "colab": {},
    "colab_type": "code",
    "id": "9r36CEcAM12B"
   },
   "outputs": [],
   "source": [
    "class ContaSalario:\n",
    "  \n",
    "  def __init__(self, codigo):\n",
    "    self._codigo = codigo\n",
    "    self._saldo = 0\n",
    "  \n",
    "  def deposita(self, valor):\n",
    "    self._saldo += valor\n",
    "    \n",
    "  def __str__(self):\n",
    "    return \"[>>Codigo {} Saldo {}<<]\".format(self._codigo, self._saldo)"
   ]
  },
  {
   "cell_type": "code",
   "execution_count": 97,
   "metadata": {
    "colab": {
     "base_uri": "https://localhost:8080/",
     "height": 34
    },
    "colab_type": "code",
    "id": "1aA33L43P8wO",
    "outputId": "5c7e7539-e047-44c5-822f-d237a4fdcaf1"
   },
   "outputs": [
    {
     "name": "stdout",
     "output_type": "stream",
     "text": [
      "[>>Codigo 37 Saldo 0<<]\n"
     ]
    }
   ],
   "source": [
    "conta1 = ContaSalario(37)\n",
    "print(conta1)"
   ]
  },
  {
   "cell_type": "code",
   "execution_count": 98,
   "metadata": {
    "colab": {
     "base_uri": "https://localhost:8080/",
     "height": 34
    },
    "colab_type": "code",
    "id": "CxtjsAE4QA0C",
    "outputId": "a0c384f0-4132-4408-e848-13309826e8b2"
   },
   "outputs": [
    {
     "name": "stdout",
     "output_type": "stream",
     "text": [
      "[>>Codigo 37 Saldo 0<<]\n"
     ]
    }
   ],
   "source": [
    "conta2 = ContaSalario(37)\n",
    "print(conta2)"
   ]
  },
  {
   "cell_type": "code",
   "execution_count": 99,
   "metadata": {
    "colab": {
     "base_uri": "https://localhost:8080/",
     "height": 34
    },
    "colab_type": "code",
    "id": "RR3KDPlIQGgm",
    "outputId": "ba555a87-3d61-4018-a987-734646ef8913"
   },
   "outputs": [
    {
     "data": {
      "text/plain": [
       "False"
      ]
     },
     "execution_count": 99,
     "metadata": {},
     "output_type": "execute_result"
    }
   ],
   "source": [
    "conta1 == conta2"
   ]
  },
  {
   "cell_type": "code",
   "execution_count": 100,
   "metadata": {
    "colab": {
     "base_uri": "https://localhost:8080/",
     "height": 34
    },
    "colab_type": "code",
    "id": "-cfXl9VCQKtY",
    "outputId": "cf80127a-4897-4189-94b8-000e2f983266"
   },
   "outputs": [
    {
     "data": {
      "text/plain": [
       "True"
      ]
     },
     "execution_count": 100,
     "metadata": {},
     "output_type": "execute_result"
    }
   ],
   "source": [
    "contas = [conta1]\n",
    "conta1 in contas"
   ]
  },
  {
   "cell_type": "code",
   "execution_count": 101,
   "metadata": {
    "colab": {
     "base_uri": "https://localhost:8080/",
     "height": 34
    },
    "colab_type": "code",
    "id": "3ACGN1LrQXtM",
    "outputId": "6f18eb8b-81d7-4218-e166-b9f2d9bf1114"
   },
   "outputs": [
    {
     "data": {
      "text/plain": [
       "False"
      ]
     },
     "execution_count": 101,
     "metadata": {},
     "output_type": "execute_result"
    }
   ],
   "source": [
    "conta2 in contas"
   ]
  },
  {
   "cell_type": "code",
   "execution_count": 102,
   "metadata": {
    "colab": {},
    "colab_type": "code",
    "id": "4Db0Sk5QQZIE"
   },
   "outputs": [],
   "source": [
    "class ContaSalario:\n",
    "  \n",
    "  def __init__(self, codigo):\n",
    "    self._codigo = codigo\n",
    "    self._saldo = 0\n",
    "    \n",
    "  def __eq__(self, outro):\n",
    "    return self._codigo == outro._codigo\n",
    "  \n",
    "  def deposita(self, valor):\n",
    "    self._saldo += valor\n",
    "    \n",
    "  def __str__(self):\n",
    "    return \"[>>Codigo {} Saldo {}<<]\".format(self._codigo, self._saldo)"
   ]
  },
  {
   "cell_type": "code",
   "execution_count": 103,
   "metadata": {
    "colab": {
     "base_uri": "https://localhost:8080/",
     "height": 34
    },
    "colab_type": "code",
    "id": "IzpfHVyEQxEA",
    "outputId": "eb7ea4c7-0dfe-4712-cf3d-d398aa156bad"
   },
   "outputs": [
    {
     "data": {
      "text/plain": [
       "True"
      ]
     },
     "execution_count": 103,
     "metadata": {},
     "output_type": "execute_result"
    }
   ],
   "source": [
    "conta1 = ContaSalario(37)\n",
    "conta2 = ContaSalario(37)\n",
    "conta1 == conta2"
   ]
  },
  {
   "cell_type": "code",
   "execution_count": 104,
   "metadata": {
    "colab": {
     "base_uri": "https://localhost:8080/",
     "height": 34
    },
    "colab_type": "code",
    "id": "vj-hxUhPQ3iV",
    "outputId": "d567aa1a-1eeb-4299-9f4e-2d0aa0dcc945"
   },
   "outputs": [
    {
     "data": {
      "text/plain": [
       "False"
      ]
     },
     "execution_count": 104,
     "metadata": {},
     "output_type": "execute_result"
    }
   ],
   "source": [
    "conta1 != conta2"
   ]
  },
  {
   "cell_type": "code",
   "execution_count": 105,
   "metadata": {
    "colab": {
     "base_uri": "https://localhost:8080/",
     "height": 34
    },
    "colab_type": "code",
    "id": "K-JAflTjQ6U7",
    "outputId": "4f473d1a-7bc7-4bdf-d396-4fd591e06d28"
   },
   "outputs": [
    {
     "data": {
      "text/plain": [
       "True"
      ]
     },
     "execution_count": 105,
     "metadata": {},
     "output_type": "execute_result"
    }
   ],
   "source": [
    "conta1 in [conta2]"
   ]
  },
  {
   "cell_type": "code",
   "execution_count": 106,
   "metadata": {
    "colab": {
     "base_uri": "https://localhost:8080/",
     "height": 34
    },
    "colab_type": "code",
    "id": "bK1dnfCNQ9Rj",
    "outputId": "fbd0b5d5-8c01-44f7-d522-ff159c8b40e7"
   },
   "outputs": [
    {
     "data": {
      "text/plain": [
       "True"
      ]
     },
     "execution_count": 106,
     "metadata": {},
     "output_type": "execute_result"
    }
   ],
   "source": [
    "conta2 in [conta1]"
   ]
  },
  {
   "cell_type": "code",
   "execution_count": 107,
   "metadata": {
    "colab": {},
    "colab_type": "code",
    "id": "uKuq2GGERfPz"
   },
   "outputs": [],
   "source": [
    "class ContaSalario:\n",
    "  \n",
    "  def __init__(self, codigo):\n",
    "    self._codigo = codigo\n",
    "    self._saldo = 0\n",
    "    \n",
    "  def __eq__(self, outro):\n",
    "    return self._codigo == outro._codigo and self._saldo == outro._saldo\n",
    "  \n",
    "  def deposita(self, valor):\n",
    "    self._saldo += valor\n",
    "    \n",
    "  def __str__(self):\n",
    "    return \"[>>Codigo {} Saldo {}<<]\".format(self._codigo, self._saldo)"
   ]
  },
  {
   "cell_type": "code",
   "execution_count": 108,
   "metadata": {
    "colab": {
     "base_uri": "https://localhost:8080/",
     "height": 34
    },
    "colab_type": "code",
    "id": "DUCk7CPvRq_z",
    "outputId": "4ad8aa69-5937-4ed0-f2a0-e6fa6d84c5d5"
   },
   "outputs": [
    {
     "data": {
      "text/plain": [
       "True"
      ]
     },
     "execution_count": 108,
     "metadata": {},
     "output_type": "execute_result"
    }
   ],
   "source": [
    "conta1 = ContaSalario(37)\n",
    "conta2 = ContaSalario(37)\n",
    "conta1 == conta2"
   ]
  },
  {
   "cell_type": "code",
   "execution_count": 109,
   "metadata": {
    "colab": {},
    "colab_type": "code",
    "id": "nKOhgztkRtD_"
   },
   "outputs": [],
   "source": [
    "conta1.deposita(10)"
   ]
  },
  {
   "cell_type": "code",
   "execution_count": 110,
   "metadata": {
    "colab": {
     "base_uri": "https://localhost:8080/",
     "height": 34
    },
    "colab_type": "code",
    "id": "LaMlbvSsRulB",
    "outputId": "c67b91f4-7dab-45a6-81dc-0ab5af30ccbe"
   },
   "outputs": [
    {
     "data": {
      "text/plain": [
       "False"
      ]
     },
     "execution_count": 110,
     "metadata": {},
     "output_type": "execute_result"
    }
   ],
   "source": [
    "conta1 == conta2"
   ]
  },
  {
   "cell_type": "code",
   "execution_count": 111,
   "metadata": {
    "colab": {},
    "colab_type": "code",
    "id": "fcel97KHRwLM"
   },
   "outputs": [],
   "source": [
    "class ContaSalario:\n",
    "  \n",
    "  def __init__(self, codigo):\n",
    "    self._codigo = codigo\n",
    "    self._saldo = 0\n",
    "    \n",
    "  def __eq__(self, outro):\n",
    "    if type(outro) != ContaSalario:\n",
    "      return False\n",
    "    \n",
    "    return self._codigo == outro._codigo and self._saldo == outro._saldo\n",
    "  \n",
    "  def deposita(self, valor):\n",
    "    self._saldo += valor\n",
    "    \n",
    "  def __str__(self):\n",
    "    return \"[>>Codigo {} Saldo {}<<]\".format(self._codigo, self._saldo)"
   ]
  },
  {
   "cell_type": "code",
   "execution_count": 112,
   "metadata": {
    "colab": {},
    "colab_type": "code",
    "id": "Rju6hGHyR799"
   },
   "outputs": [],
   "source": [
    "conta1 = ContaSalario(37)\n",
    "conta2 = ContaCorrente(37)"
   ]
  },
  {
   "cell_type": "code",
   "execution_count": 113,
   "metadata": {
    "colab": {
     "base_uri": "https://localhost:8080/",
     "height": 34
    },
    "colab_type": "code",
    "id": "OXf4t_awSAHZ",
    "outputId": "650c63d9-f4b5-4307-84e8-489b67ce1563"
   },
   "outputs": [
    {
     "data": {
      "text/plain": [
       "False"
      ]
     },
     "execution_count": 113,
     "metadata": {},
     "output_type": "execute_result"
    }
   ],
   "source": [
    "conta1 == conta2"
   ]
  },
  {
   "cell_type": "code",
   "execution_count": 114,
   "metadata": {
    "colab": {
     "base_uri": "https://localhost:8080/",
     "height": 34
    },
    "colab_type": "code",
    "id": "_f6JxtliS43P",
    "outputId": "42c0aeda-f065-46ac-b5ef-952ea79493a3"
   },
   "outputs": [
    {
     "data": {
      "text/plain": [
       "True"
      ]
     },
     "execution_count": 114,
     "metadata": {},
     "output_type": "execute_result"
    }
   ],
   "source": [
    "isinstance(ContaCorrente(34), ContaCorrente)"
   ]
  },
  {
   "cell_type": "code",
   "execution_count": 115,
   "metadata": {
    "colab": {
     "base_uri": "https://localhost:8080/",
     "height": 34
    },
    "colab_type": "code",
    "id": "-iOlWiRSTBtG",
    "outputId": "56e109ed-ac13-4433-fd42-dde4fdfadfa0"
   },
   "outputs": [
    {
     "data": {
      "text/plain": [
       "True"
      ]
     },
     "execution_count": 115,
     "metadata": {},
     "output_type": "execute_result"
    }
   ],
   "source": [
    "isinstance(ContaCorrente(34), Conta)"
   ]
  },
  {
   "cell_type": "code",
   "execution_count": 116,
   "metadata": {
    "colab": {},
    "colab_type": "code",
    "id": "wkvgURaRTEHb"
   },
   "outputs": [
    {
     "name": "stdout",
     "output_type": "stream",
     "text": [
      "\n",
      "Valores\n",
      "15\n",
      "87\n",
      "32\n",
      "65\n",
      "56\n",
      "32\n",
      "49\n",
      "37\n",
      "\n",
      "Posição\n",
      "0\n",
      "1\n",
      "2\n",
      "3\n",
      "4\n",
      "5\n",
      "6\n",
      "7\n"
     ]
    }
   ],
   "source": [
    "idades = [15, 87, 32, 65, 56, 32, 49, 37]\n",
    "print(\"\\nValores\")\n",
    "for idade in idades:\n",
    "  print(idade)\n",
    "print(\"\\nPosição\")\n",
    "range(len(idades))\n",
    "for i in range(len(idades)):\n",
    "  print(i)\n"
   ]
  },
  {
   "cell_type": "code",
   "execution_count": 117,
   "metadata": {},
   "outputs": [
    {
     "data": {
      "text/plain": [
       "range"
      ]
     },
     "execution_count": 117,
     "metadata": {},
     "output_type": "execute_result"
    }
   ],
   "source": [
    "enumerate(idades)\n",
    "type(range(len(idades)))"
   ]
  },
  {
   "cell_type": "code",
   "execution_count": 118,
   "metadata": {},
   "outputs": [
    {
     "name": "stdout",
     "output_type": "stream",
     "text": [
      "range(0, 8)\n",
      "<enumerate object at 0x000001602EE74B00>\n"
     ]
    }
   ],
   "source": [
    "print(range(len(idades))) # lazy...\n",
    "\n",
    "\n",
    "print(enumerate(idades)) # lazy\n",
    "\n"
   ]
  },
  {
   "cell_type": "code",
   "execution_count": 119,
   "metadata": {},
   "outputs": [
    {
     "data": {
      "text/plain": [
       "[0, 1, 2, 3, 4, 5, 6, 7]"
      ]
     },
     "execution_count": 119,
     "metadata": {},
     "output_type": "execute_result"
    }
   ],
   "source": [
    "list(range(len(idades)))"
   ]
  },
  {
   "cell_type": "code",
   "execution_count": 120,
   "metadata": {},
   "outputs": [
    {
     "data": {
      "text/plain": [
       "[(0, 15), (1, 87), (2, 32), (3, 65), (4, 56), (5, 32), (6, 49), (7, 37)]"
      ]
     },
     "execution_count": 120,
     "metadata": {},
     "output_type": "execute_result"
    }
   ],
   "source": [
    "list(enumerate(idades))"
   ]
  },
  {
   "cell_type": "code",
   "execution_count": 121,
   "metadata": {},
   "outputs": [
    {
     "name": "stdout",
     "output_type": "stream",
     "text": [
      "(0, 15)\n",
      "(1, 87)\n",
      "(2, 32)\n",
      "(3, 65)\n",
      "(4, 56)\n",
      "(5, 32)\n",
      "(6, 49)\n",
      "(7, 37)\n"
     ]
    }
   ],
   "source": [
    "for valor in enumerate(idades):\n",
    "  print(valor)"
   ]
  },
  {
   "cell_type": "code",
   "execution_count": 122,
   "metadata": {},
   "outputs": [
    {
     "name": "stdout",
     "output_type": "stream",
     "text": [
      "0 15\n",
      "1 87\n",
      "2 32\n",
      "3 65\n",
      "4 56\n",
      "5 32\n",
      "6 49\n",
      "7 37\n"
     ]
    }
   ],
   "source": [
    "for indice, idade in enumerate(idades):\n",
    "  print(indice, idade)"
   ]
  },
  {
   "cell_type": "code",
   "execution_count": 123,
   "metadata": {},
   "outputs": [
    {
     "name": "stdout",
     "output_type": "stream",
     "text": [
      "0 x 15\n",
      "1 x 87\n",
      "2 x 32\n",
      "3 x 65\n",
      "4 x 56\n",
      "5 x 32\n",
      "6 x 49\n",
      "7 x 37\n"
     ]
    }
   ],
   "source": [
    "for indice, idade in enumerate(idades): # unpacking da nossa tupla\n",
    "  print(indice, \"x\", idade)"
   ]
  },
  {
   "cell_type": "code",
   "execution_count": 124,
   "metadata": {},
   "outputs": [
    {
     "name": "stdout",
     "output_type": "stream",
     "text": [
      "Guilherme\n",
      "Daniela\n",
      "Paulo\n"
     ]
    }
   ],
   "source": [
    "usuarios = [\n",
    "    (\"Guilherme\", 37, 1981),\n",
    "    (\"Daniela\", 31, 1987),\n",
    "    (\"Paulo\", 39, 1979)\n",
    "]\n",
    "for nome, idade, nascimento in usuarios: # ja desempacotando\n",
    "  print(nome)"
   ]
  },
  {
   "cell_type": "code",
   "execution_count": 125,
   "metadata": {},
   "outputs": [
    {
     "name": "stdout",
     "output_type": "stream",
     "text": [
      "Guilherme\n",
      "Daniela\n",
      "Paulo\n"
     ]
    }
   ],
   "source": [
    "for nome, idade, nascimento in usuarios: # ja desempacotando, ignorando o resto\n",
    "  print(nome)"
   ]
  },
  {
   "cell_type": "code",
   "execution_count": 126,
   "metadata": {},
   "outputs": [
    {
     "name": "stdout",
     "output_type": "stream",
     "text": [
      "Guilherme\n",
      "Daniela\n",
      "Paulo\n"
     ]
    }
   ],
   "source": [
    "for nome,_,_ in usuarios: # ja desempacotando, ignorando o resto\n",
    "  print(nome)"
   ]
  },
  {
   "cell_type": "code",
   "execution_count": 127,
   "metadata": {},
   "outputs": [
    {
     "name": "stdout",
     "output_type": "stream",
     "text": [
      "0 15\n",
      "1 87\n",
      "2 37\n",
      "3 45\n",
      "4 56\n",
      "5 32\n",
      "6 49\n",
      "7 37\n"
     ]
    }
   ],
   "source": [
    "idades = [15,87,37,45,56,32,49,37]\n",
    "for i in range(len(idades)):\n",
    "    print(i,idades[i])\n"
   ]
  },
  {
   "cell_type": "code",
   "execution_count": 128,
   "metadata": {},
   "outputs": [
    {
     "data": {
      "text/plain": [
       "[15, 87, 37, 45, 56, 32, 49, 37]"
      ]
     },
     "execution_count": 128,
     "metadata": {},
     "output_type": "execute_result"
    }
   ],
   "source": [
    "idades"
   ]
  },
  {
   "cell_type": "code",
   "execution_count": 129,
   "metadata": {},
   "outputs": [
    {
     "data": {
      "text/plain": [
       "[15, 32, 37, 37, 45, 49, 56, 87]"
      ]
     },
     "execution_count": 129,
     "metadata": {},
     "output_type": "execute_result"
    }
   ],
   "source": [
    "sorted(idades)"
   ]
  },
  {
   "cell_type": "code",
   "execution_count": 130,
   "metadata": {},
   "outputs": [
    {
     "data": {
      "text/plain": [
       "[37, 49, 32, 56, 45, 37, 87, 15]"
      ]
     },
     "execution_count": 130,
     "metadata": {},
     "output_type": "execute_result"
    }
   ],
   "source": [
    "list(reversed(idades))"
   ]
  },
  {
   "cell_type": "code",
   "execution_count": 131,
   "metadata": {},
   "outputs": [
    {
     "data": {
      "text/plain": [
       "[87, 56, 49, 45, 37, 37, 32, 15]"
      ]
     },
     "execution_count": 131,
     "metadata": {},
     "output_type": "execute_result"
    }
   ],
   "source": [
    "sorted(idades, reverse=True)"
   ]
  },
  {
   "cell_type": "code",
   "execution_count": 132,
   "metadata": {},
   "outputs": [
    {
     "data": {
      "text/plain": [
       "[87, 56, 49, 45, 37, 37, 32, 15]"
      ]
     },
     "execution_count": 132,
     "metadata": {},
     "output_type": "execute_result"
    }
   ],
   "source": [
    "list(reversed(sorted(idades)))"
   ]
  },
  {
   "cell_type": "code",
   "execution_count": 133,
   "metadata": {},
   "outputs": [
    {
     "data": {
      "text/plain": [
       "[15, 87, 37, 45, 56, 32, 49, 37]"
      ]
     },
     "execution_count": 133,
     "metadata": {},
     "output_type": "execute_result"
    }
   ],
   "source": [
    "idades"
   ]
  },
  {
   "cell_type": "code",
   "execution_count": 134,
   "metadata": {},
   "outputs": [
    {
     "data": {
      "text/plain": [
       "['Daniela', 'Guilherme', 'Paulo']"
      ]
     },
     "execution_count": 134,
     "metadata": {},
     "output_type": "execute_result"
    }
   ],
   "source": [
    " nomes = [\"Guilherme\", \"Daniela\", \"Paulo\"]\n",
    "sorted(nomes)"
   ]
  },
  {
   "cell_type": "code",
   "execution_count": 135,
   "metadata": {},
   "outputs": [],
   "source": [
    "class ContaSalario:\n",
    "\n",
    "    def __init__(self, codigo):\n",
    "        self._codigo = codigo\n",
    "        self._saldo = 0\n",
    "\n",
    "    def deposita(self, valor):\n",
    "        self._saldo += valor\n",
    "\n",
    "    def __str__(self):\n",
    "        return \"[>>Codigo {} Saldo {}<<]\".format(self._codigo, self._saldo)\n",
    "\n",
    "    def __lt__(self, outro):\n",
    "        return self._saldo < outro._saldo\n"
   ]
  },
  {
   "cell_type": "code",
   "execution_count": 136,
   "metadata": {},
   "outputs": [],
   "source": [
    "conta_do_guilherme = ContaSalario(17)\n",
    "conta_do_guilherme.deposita(500)\n",
    "\n",
    "conta_da_daniela = ContaSalario(3)\n",
    "conta_da_daniela.deposita(1000)\n",
    "\n",
    "conta_do_paulo = ContaSalario(133)\n",
    "conta_do_paulo.deposita(510)\n"
   ]
  },
  {
   "cell_type": "code",
   "execution_count": 137,
   "metadata": {},
   "outputs": [],
   "source": [
    "contas = [conta_do_guilherme, conta_da_daniela, conta_do_paulo]\n"
   ]
  },
  {
   "cell_type": "code",
   "execution_count": 138,
   "metadata": {},
   "outputs": [
    {
     "name": "stdout",
     "output_type": "stream",
     "text": [
      "[>>Codigo 17 Saldo 500<<]\n",
      "[>>Codigo 3 Saldo 1000<<]\n",
      "[>>Codigo 133 Saldo 510<<]\n"
     ]
    }
   ],
   "source": [
    "contas = [conta_do_guilherme, conta_da_daniela, conta_do_paulo]\n",
    "for conta in contas:\n",
    "  print(conta)"
   ]
  },
  {
   "cell_type": "code",
   "execution_count": 139,
   "metadata": {},
   "outputs": [
    {
     "data": {
      "text/plain": [
       "[<__main__.ContaSalario at 0x1602ee84340>,\n",
       " <__main__.ContaSalario at 0x1602ee84e20>,\n",
       " <__main__.ContaSalario at 0x1602ee843d0>]"
      ]
     },
     "execution_count": 139,
     "metadata": {},
     "output_type": "execute_result"
    }
   ],
   "source": [
    "def extrai_saldo(conta):\n",
    "  return conta._saldo\n",
    "\n",
    "sorted(contas, key=extrai_saldo)\n",
    "\n",
    "\n"
   ]
  },
  {
   "cell_type": "code",
   "execution_count": 140,
   "metadata": {},
   "outputs": [
    {
     "name": "stdout",
     "output_type": "stream",
     "text": [
      "[>>Codigo 17 Saldo 500<<]\n",
      "[>>Codigo 133 Saldo 510<<]\n",
      "[>>Codigo 3 Saldo 1000<<]\n"
     ]
    }
   ],
   "source": [
    "def extrai_saldo(conta):\n",
    "  return conta._saldo\n",
    "\n",
    "for conta in sorted(contas, key=extrai_saldo):\n",
    "  print(conta)\n"
   ]
  },
  {
   "cell_type": "code",
   "execution_count": 141,
   "metadata": {},
   "outputs": [
    {
     "name": "stdout",
     "output_type": "stream",
     "text": [
      "[>>Codigo 17 Saldo 500<<]\n",
      "[>>Codigo 133 Saldo 510<<]\n",
      "[>>Codigo 3 Saldo 1000<<]\n"
     ]
    }
   ],
   "source": [
    "from operator import attrgetter\n",
    "\n",
    "for conta in sorted(contas, key=attrgetter(\"_saldo\")):\n",
    "  print(conta)\n"
   ]
  },
  {
   "cell_type": "code",
   "execution_count": 142,
   "metadata": {},
   "outputs": [
    {
     "name": "stdout",
     "output_type": "stream",
     "text": [
      "[>>Codigo 17 Saldo 500<<]\n",
      "[>>Codigo 133 Saldo 510<<]\n",
      "[>>Codigo 3 Saldo 1000<<]\n"
     ]
    }
   ],
   "source": [
    "from operator import attrgetter\n",
    "\n",
    "for conta in sorted(contas, key=attrgetter(\"_saldo\")):\n",
    "  print(conta)"
   ]
  },
  {
   "cell_type": "code",
   "execution_count": 144,
   "metadata": {},
   "outputs": [
    {
     "data": {
      "text/plain": [
       "True"
      ]
     },
     "execution_count": 144,
     "metadata": {},
     "output_type": "execute_result"
    }
   ],
   "source": [
    "conta_do_guilherme < conta_da_daniela"
   ]
  },
  {
   "cell_type": "code",
   "execution_count": 143,
   "metadata": {},
   "outputs": [
    {
     "data": {
      "text/plain": [
       "False"
      ]
     },
     "execution_count": 143,
     "metadata": {},
     "output_type": "execute_result"
    }
   ],
   "source": [
    "conta_do_guilherme > conta_da_daniela\n"
   ]
  },
  {
   "cell_type": "code",
   "execution_count": 146,
   "metadata": {},
   "outputs": [
    {
     "name": "stdout",
     "output_type": "stream",
     "text": [
      "[>>Codigo 17 Saldo 500<<]\n",
      "[>>Codigo 133 Saldo 510<<]\n",
      "[>>Codigo 3 Saldo 1000<<]\n"
     ]
    }
   ],
   "source": [
    "for conta in sorted(contas):\n",
    "    print(conta)"
   ]
  },
  {
   "cell_type": "code",
   "execution_count": null,
   "metadata": {},
   "outputs": [],
   "source": []
  }
 ],
 "metadata": {
  "colab": {
   "collapsed_sections": [],
   "name": "Introdução a Collections",
   "provenance": [],
   "version": "0.3.2"
  },
  "kernelspec": {
   "display_name": "Python 3 (ipykernel)",
   "language": "python",
   "name": "python3"
  },
  "language_info": {
   "codemirror_mode": {
    "name": "ipython",
    "version": 3
   },
   "file_extension": ".py",
   "mimetype": "text/x-python",
   "name": "python",
   "nbconvert_exporter": "python",
   "pygments_lexer": "ipython3",
   "version": "3.9.12"
  }
 },
 "nbformat": 4,
 "nbformat_minor": 1
}
