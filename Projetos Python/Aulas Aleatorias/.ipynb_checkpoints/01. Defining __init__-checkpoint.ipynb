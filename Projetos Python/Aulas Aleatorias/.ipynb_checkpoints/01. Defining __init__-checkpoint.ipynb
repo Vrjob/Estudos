{
 "cells": [
  {
   "cell_type": "code",
   "execution_count": 1,
   "id": "be5afb4a",
   "metadata": {},
   "outputs": [],
   "source": [
    "class Filme():\n",
    "    def __init__(self, filme_titulo, filme_sinopse, filme_poster, filme_trailer):\n",
    "        self.titulo = filme_titulo\n",
    "        self.sinopse = filme_sinopse\n",
    "        self.poster_img_url = filme_poster\n",
    "        self.trailer_ytb_url = filme_trailer"
   ]
  },
  {
   "cell_type": "code",
   "execution_count": 2,
   "id": "e3ec21fa",
   "metadata": {},
   "outputs": [],
   "source": [
    "dbz = Filme(\"Dragon Ball Z\", \n",
    "            \"Um alien macaco vira loiro.\", \n",
    "            \"https://pbs.twimg.com/media/FGmOVD3WQAgE6A9?format=jpg&name=900x900\",\n",
    "           \"https://www.youtube.com/watch?v=HNY3rlgfxvA&ab_channel=CrunchyrollBrasil\")\n",
    "\n",
    "avatar = Filme(\"Avatar\", \n",
    "               \"Um homem vira um alien azul.\", \n",
    "              \"https://pbs.twimg.com/media/FSUrD7UXoAEf3ys?format=jpg&name=900x900\",\n",
    "              \"https://www.youtube.com/watch?v=5PSNL1qE6VY&ab_channel=20thCenturyStudios\")"
   ]
  },
  {
   "cell_type": "code",
   "execution_count": 3,
   "id": "0caa4a66",
   "metadata": {},
   "outputs": [
    {
     "name": "stdout",
     "output_type": "stream",
     "text": [
      "O filme Dragon Ball Z é sobre Um alien macaco vira loiro.\n",
      "Voce pode ver o poster dele em:\n",
      "https://pbs.twimg.com/media/FGmOVD3WQAgE6A9?format=jpg&name=900x900\n",
      "E voce pode ver seu trailer em:\n",
      "https://www.youtube.com/watch?v=HNY3rlgfxvA&ab_channel=CrunchyrollBrasil\n"
     ]
    }
   ],
   "source": [
    "a = dbz\n",
    "b = avatar\n",
    "\n",
    "filme_esc = a\n",
    "print(f\"O filme {filme_esc.titulo} é sobre {filme_esc.sinopse}\\nVoce pode ver o poster dele em:\\n{filme_esc.poster_img_url}\\nE voce pode ver seu trailer em:\\n{filme_esc.trailer_ytb_url}\")\n"
   ]
  },
  {
   "cell_type": "code",
   "execution_count": null,
   "id": "2fd7dfd3",
   "metadata": {},
   "outputs": [],
   "source": []
  }
 ],
 "metadata": {
  "kernelspec": {
   "display_name": "Python 3 (ipykernel)",
   "language": "python",
   "name": "python3"
  },
  "language_info": {
   "codemirror_mode": {
    "name": "ipython",
    "version": 3
   },
   "file_extension": ".py",
   "mimetype": "text/x-python",
   "name": "python",
   "nbconvert_exporter": "python",
   "pygments_lexer": "ipython3",
   "version": "3.9.12"
  }
 },
 "nbformat": 4,
 "nbformat_minor": 5
}
