{
 "cells": [
  {
   "cell_type": "code",
   "execution_count": 1,
   "id": "22b3c7c8",
   "metadata": {},
   "outputs": [],
   "source": [
    "usuarios_data_science = [15, 23, 43, 56]\n",
    "usuarios_machine_learning = [13, 23, 56, 42]"
   ]
  },
  {
   "cell_type": "code",
   "execution_count": 2,
   "id": "9fdb7bd1",
   "metadata": {},
   "outputs": [
    {
     "data": {
      "text/plain": [
       "[15, 23, 43, 56, 13, 23, 56, 42]"
      ]
     },
     "execution_count": 2,
     "metadata": {},
     "output_type": "execute_result"
    }
   ],
   "source": [
    "assistiram = usuarios_data_science.copy()\n",
    "assistiram.extend(usuarios_machine_learning)\n",
    "assistiram"
   ]
  },
  {
   "cell_type": "code",
   "execution_count": 3,
   "id": "a09133b0",
   "metadata": {},
   "outputs": [
    {
     "data": {
      "text/plain": [
       "8"
      ]
     },
     "execution_count": 3,
     "metadata": {},
     "output_type": "execute_result"
    }
   ],
   "source": [
    "len(assistiram)"
   ]
  },
  {
   "cell_type": "code",
   "execution_count": 4,
   "id": "995a54c7",
   "metadata": {},
   "outputs": [
    {
     "data": {
      "text/plain": [
       "{13, 15, 23, 42, 43, 56}"
      ]
     },
     "execution_count": 4,
     "metadata": {},
     "output_type": "execute_result"
    }
   ],
   "source": [
    "set(assistiram)"
   ]
  },
  {
   "cell_type": "code",
   "execution_count": 5,
   "id": "4f03e854",
   "metadata": {},
   "outputs": [
    {
     "data": {
      "text/plain": [
       "6"
      ]
     },
     "execution_count": 5,
     "metadata": {},
     "output_type": "execute_result"
    }
   ],
   "source": [
    "len(set(assistiram))"
   ]
  },
  {
   "cell_type": "code",
   "execution_count": 6,
   "id": "41cfefac",
   "metadata": {},
   "outputs": [
    {
     "data": {
      "text/plain": [
       "{1, 2, 3, 4}"
      ]
     },
     "execution_count": 6,
     "metadata": {},
     "output_type": "execute_result"
    }
   ],
   "source": [
    "{1,2,3,4,3}"
   ]
  },
  {
   "cell_type": "code",
   "execution_count": 7,
   "id": "43537372",
   "metadata": {},
   "outputs": [
    {
     "name": "stdout",
     "output_type": "stream",
     "text": [
      "42\n",
      "43\n",
      "13\n",
      "15\n",
      "23\n",
      "56\n"
     ]
    }
   ],
   "source": [
    "for usuario in set(assistiram):\n",
    "    print(usuario)"
   ]
  },
  {
   "cell_type": "code",
   "execution_count": 8,
   "id": "69db25d9",
   "metadata": {},
   "outputs": [],
   "source": [
    "usuarios_data_science = {15, 23, 43, 56}\n",
    "usuarios_machine_learning = {13, 23, 56, 42}"
   ]
  },
  {
   "cell_type": "code",
   "execution_count": 9,
   "id": "3ff5b6d8",
   "metadata": {},
   "outputs": [
    {
     "data": {
      "text/plain": [
       "{13, 15, 23, 42, 43, 56}"
      ]
     },
     "execution_count": 9,
     "metadata": {},
     "output_type": "execute_result"
    }
   ],
   "source": [
    "usuarios_data_science | usuarios_machine_learning"
   ]
  },
  {
   "cell_type": "code",
   "execution_count": 10,
   "id": "f75ef810",
   "metadata": {},
   "outputs": [
    {
     "data": {
      "text/plain": [
       "{23, 56}"
      ]
     },
     "execution_count": 10,
     "metadata": {},
     "output_type": "execute_result"
    }
   ],
   "source": [
    "usuarios_data_science & usuarios_machine_learning"
   ]
  },
  {
   "cell_type": "code",
   "execution_count": 11,
   "id": "0452d632",
   "metadata": {},
   "outputs": [
    {
     "data": {
      "text/plain": [
       "{15, 43}"
      ]
     },
     "execution_count": 11,
     "metadata": {},
     "output_type": "execute_result"
    }
   ],
   "source": [
    "usuarios_data_science - usuarios_machine_learning"
   ]
  },
  {
   "cell_type": "code",
   "execution_count": 12,
   "id": "284bc33e",
   "metadata": {},
   "outputs": [
    {
     "data": {
      "text/plain": [
       "7"
      ]
     },
     "execution_count": 12,
     "metadata": {},
     "output_type": "execute_result"
    }
   ],
   "source": [
    "usuarios = {1,5,76,34,52,13,17}\n",
    "len(usuarios)"
   ]
  },
  {
   "cell_type": "code",
   "execution_count": 13,
   "id": "e4d76ee8",
   "metadata": {},
   "outputs": [
    {
     "data": {
      "text/plain": [
       "8"
      ]
     },
     "execution_count": 13,
     "metadata": {},
     "output_type": "execute_result"
    }
   ],
   "source": [
    "usuarios.add(123)\n",
    "len(usuarios)"
   ]
  },
  {
   "cell_type": "code",
   "execution_count": 14,
   "id": "0e5d498e",
   "metadata": {},
   "outputs": [
    {
     "data": {
      "text/plain": [
       "{1, 5, 13, 17, 34, 52, 76, 123}"
      ]
     },
     "execution_count": 14,
     "metadata": {},
     "output_type": "execute_result"
    }
   ],
   "source": [
    "usuarios"
   ]
  },
  {
   "cell_type": "code",
   "execution_count": 15,
   "id": "3af07edb",
   "metadata": {},
   "outputs": [
    {
     "data": {
      "text/plain": [
       "frozenset({1, 5, 13, 17, 34, 52, 76, 123})"
      ]
     },
     "execution_count": 15,
     "metadata": {},
     "output_type": "execute_result"
    }
   ],
   "source": [
    "usuarios = frozenset(usuarios)\n",
    "usuarios"
   ]
  },
  {
   "cell_type": "code",
   "execution_count": 16,
   "id": "0f7f2f34",
   "metadata": {},
   "outputs": [
    {
     "data": {
      "text/plain": [
       "frozenset"
      ]
     },
     "execution_count": 16,
     "metadata": {},
     "output_type": "execute_result"
    }
   ],
   "source": [
    "type(usuarios)"
   ]
  },
  {
   "cell_type": "code",
   "execution_count": 17,
   "id": "a066f7e7",
   "metadata": {},
   "outputs": [],
   "source": [
    "meu_texto = \"Bem vindo meu nome é Guilherme eu gosto muito de nomes e tenho o meu cachorro e gosto muito de cachorro\""
   ]
  },
  {
   "cell_type": "code",
   "execution_count": 18,
   "id": "71121a0c",
   "metadata": {},
   "outputs": [
    {
     "data": {
      "text/plain": [
       "{'Bem',\n",
       " 'Guilherme',\n",
       " 'cachorro',\n",
       " 'de',\n",
       " 'e',\n",
       " 'eu',\n",
       " 'gosto',\n",
       " 'meu',\n",
       " 'muito',\n",
       " 'nome',\n",
       " 'nomes',\n",
       " 'o',\n",
       " 'tenho',\n",
       " 'vindo',\n",
       " 'é'}"
      ]
     },
     "execution_count": 18,
     "metadata": {},
     "output_type": "execute_result"
    }
   ],
   "source": [
    "set(meu_texto.split())"
   ]
  },
  {
   "cell_type": "markdown",
   "id": "564c81f3",
   "metadata": {},
   "source": [
    "## Dicionario (Mapa etc.)"
   ]
  },
  {
   "cell_type": "code",
   "execution_count": 19,
   "id": "ede81ce3",
   "metadata": {},
   "outputs": [],
   "source": [
    "aparicoes = {\n",
    "  \"Guilherme\" : 1,\n",
    "  \"cachorro\" : 2,\n",
    "  \"nome\" : 2,\n",
    "  \"vindo\" : 1\n",
    "}"
   ]
  },
  {
   "cell_type": "code",
   "execution_count": 20,
   "id": "b7364ec0",
   "metadata": {},
   "outputs": [],
   "source": [
    "aparicoes[\"Carlos\"] = 1"
   ]
  },
  {
   "cell_type": "code",
   "execution_count": 21,
   "id": "314879fe",
   "metadata": {},
   "outputs": [
    {
     "data": {
      "text/plain": [
       "{'Guilherme': 1, 'cachorro': 2, 'nome': 2, 'vindo': 1, 'Carlos': 1}"
      ]
     },
     "execution_count": 21,
     "metadata": {},
     "output_type": "execute_result"
    }
   ],
   "source": [
    "aparicoes"
   ]
  },
  {
   "cell_type": "code",
   "execution_count": 22,
   "id": "09028ff5",
   "metadata": {},
   "outputs": [],
   "source": [
    "aparicoes[\"Carlos\"] = 2"
   ]
  },
  {
   "cell_type": "code",
   "execution_count": 23,
   "id": "03cd8264",
   "metadata": {},
   "outputs": [
    {
     "data": {
      "text/plain": [
       "{'Guilherme': 1, 'cachorro': 2, 'nome': 2, 'vindo': 1, 'Carlos': 2}"
      ]
     },
     "execution_count": 23,
     "metadata": {},
     "output_type": "execute_result"
    }
   ],
   "source": [
    "aparicoes"
   ]
  },
  {
   "cell_type": "code",
   "execution_count": 24,
   "id": "4f162614",
   "metadata": {},
   "outputs": [],
   "source": [
    "del aparicoes[\"Carlos\"]"
   ]
  },
  {
   "cell_type": "code",
   "execution_count": 25,
   "id": "b16d33c4",
   "metadata": {},
   "outputs": [
    {
     "data": {
      "text/plain": [
       "{'Guilherme': 1, 'cachorro': 2, 'nome': 2, 'vindo': 1}"
      ]
     },
     "execution_count": 25,
     "metadata": {},
     "output_type": "execute_result"
    }
   ],
   "source": [
    "aparicoes"
   ]
  },
  {
   "cell_type": "code",
   "execution_count": 26,
   "id": "df9df961",
   "metadata": {},
   "outputs": [
    {
     "data": {
      "text/plain": [
       "True"
      ]
     },
     "execution_count": 26,
     "metadata": {},
     "output_type": "execute_result"
    }
   ],
   "source": [
    "\"cachorro\" in aparicoes"
   ]
  },
  {
   "cell_type": "code",
   "execution_count": 27,
   "id": "ee406061",
   "metadata": {},
   "outputs": [
    {
     "data": {
      "text/plain": [
       "False"
      ]
     },
     "execution_count": 27,
     "metadata": {},
     "output_type": "execute_result"
    }
   ],
   "source": [
    "\"Carlos\" in aparicoes"
   ]
  },
  {
   "cell_type": "code",
   "execution_count": 28,
   "id": "be92c592",
   "metadata": {},
   "outputs": [
    {
     "name": "stdout",
     "output_type": "stream",
     "text": [
      "Guilherme\n",
      "cachorro\n",
      "nome\n",
      "vindo\n"
     ]
    }
   ],
   "source": [
    "for elemento in aparicoes:\n",
    "  print(elemento)"
   ]
  },
  {
   "cell_type": "code",
   "execution_count": 29,
   "id": "7b2e7ef2",
   "metadata": {},
   "outputs": [
    {
     "name": "stdout",
     "output_type": "stream",
     "text": [
      "1\n",
      "2\n",
      "2\n",
      "1\n"
     ]
    }
   ],
   "source": [
    "for elemento in aparicoes.values():\n",
    "  print(elemento)"
   ]
  },
  {
   "cell_type": "code",
   "execution_count": 30,
   "id": "2d545b38",
   "metadata": {},
   "outputs": [
    {
     "name": "stdout",
     "output_type": "stream",
     "text": [
      "Guilherme = 1\n",
      "cachorro = 2\n",
      "nome = 2\n",
      "vindo = 1\n"
     ]
    }
   ],
   "source": [
    "for chave, valor in aparicoes.items():\n",
    "  print(chave, \"=\", valor)"
   ]
  },
  {
   "cell_type": "code",
   "execution_count": 31,
   "id": "8920df9f",
   "metadata": {},
   "outputs": [
    {
     "data": {
      "text/plain": [
       "['palavra Guilherme', 'palavra cachorro', 'palavra nome', 'palavra vindo']"
      ]
     },
     "execution_count": 31,
     "metadata": {},
     "output_type": "execute_result"
    }
   ],
   "source": [
    "[\"palavra {}\".format(chave) for chave in aparicoes.keys()]"
   ]
  },
  {
   "cell_type": "code",
   "execution_count": 32,
   "id": "b78b83d5",
   "metadata": {},
   "outputs": [
    {
     "data": {
      "text/plain": [
       "{'bem': 1,\n",
       " 'vindo': 1,\n",
       " 'meu': 2,\n",
       " 'nome': 1,\n",
       " 'é': 1,\n",
       " 'guilherme': 1,\n",
       " 'eu': 1,\n",
       " 'gosto': 2,\n",
       " 'muito': 2,\n",
       " 'de': 2,\n",
       " 'nomes': 1,\n",
       " 'e': 2,\n",
       " 'tenho': 1,\n",
       " 'o': 1,\n",
       " 'cachorro': 2}"
      ]
     },
     "execution_count": 32,
     "metadata": {},
     "output_type": "execute_result"
    }
   ],
   "source": [
    "meu_texto = \"Bem vindo meu nome é Guilherme eu gosto muito de nomes e tenho o meu cachorro e gosto muito de cachorro\"\n",
    "meu_texto = meu_texto.lower()\n",
    "\n",
    "aparicoes = {}\n",
    "\n",
    "for palavra in meu_texto.split():\n",
    "    ate_agora = aparicoes.get(palavra, 0)\n",
    "    aparicoes[palavra] = ate_agora + 1\n",
    "\n",
    "aparicoes"
   ]
  },
  {
   "cell_type": "code",
   "execution_count": 33,
   "id": "09ed6332",
   "metadata": {},
   "outputs": [
    {
     "data": {
      "text/plain": [
       "'bem vindo meu nome é guilherme eu gosto muito de nomes e tenho o meu cachorro e gosto muito de cachorro'"
      ]
     },
     "execution_count": 33,
     "metadata": {},
     "output_type": "execute_result"
    }
   ],
   "source": [
    "meu_texto"
   ]
  },
  {
   "cell_type": "code",
   "execution_count": 34,
   "id": "197717c9",
   "metadata": {},
   "outputs": [
    {
     "data": {
      "text/plain": [
       "defaultdict(int,\n",
       "            {'bem': 1,\n",
       "             'vindo': 1,\n",
       "             'meu': 2,\n",
       "             'nome': 1,\n",
       "             'é': 1,\n",
       "             'guilherme': 1,\n",
       "             'eu': 1,\n",
       "             'gosto': 2,\n",
       "             'muito': 2,\n",
       "             'de': 2,\n",
       "             'nomes': 1,\n",
       "             'e': 2,\n",
       "             'tenho': 1,\n",
       "             'o': 1,\n",
       "             'cachorro': 2})"
      ]
     },
     "execution_count": 34,
     "metadata": {},
     "output_type": "execute_result"
    }
   ],
   "source": [
    "from collections import defaultdict\n",
    "\n",
    "aparicoes = defaultdict(int)\n",
    "\n",
    "for palavra in meu_texto.split():\n",
    "    aparicoes[palavra] += 1\n",
    "\n",
    "aparicoes"
   ]
  },
  {
   "cell_type": "code",
   "execution_count": 35,
   "id": "0fc68a43",
   "metadata": {},
   "outputs": [],
   "source": [
    "class Conta:\n",
    "    def __init__(self):\n",
    "        print(\"Criando uma conta\")\n",
    "    "
   ]
  },
  {
   "cell_type": "code",
   "execution_count": 36,
   "id": "6f692126",
   "metadata": {},
   "outputs": [
    {
     "name": "stdout",
     "output_type": "stream",
     "text": [
      "Criando uma conta\n"
     ]
    },
    {
     "data": {
      "text/plain": [
       "<__main__.Conta at 0x24325a5d9a0>"
      ]
     },
     "execution_count": 36,
     "metadata": {},
     "output_type": "execute_result"
    }
   ],
   "source": [
    "contas = defaultdict(Conta)\n",
    "contas[15]"
   ]
  },
  {
   "cell_type": "code",
   "execution_count": 37,
   "id": "e61992a1",
   "metadata": {},
   "outputs": [
    {
     "data": {
      "text/plain": [
       "Counter({'bem': 1,\n",
       "         'vindo': 1,\n",
       "         'meu': 2,\n",
       "         'nome': 1,\n",
       "         'é': 1,\n",
       "         'guilherme': 1,\n",
       "         'eu': 1,\n",
       "         'gosto': 2,\n",
       "         'muito': 2,\n",
       "         'de': 2,\n",
       "         'nomes': 1,\n",
       "         'e': 2,\n",
       "         'tenho': 1,\n",
       "         'o': 1,\n",
       "         'cachorro': 2})"
      ]
     },
     "execution_count": 37,
     "metadata": {},
     "output_type": "execute_result"
    }
   ],
   "source": [
    "from collections import Counter\n",
    "\n",
    "aparicoes = Counter()\n",
    "for palavra in meu_texto.split():\n",
    "  aparicoes[palavra] += 1\n",
    "\n",
    "aparicoes"
   ]
  },
  {
   "cell_type": "code",
   "execution_count": 38,
   "id": "c427f534",
   "metadata": {},
   "outputs": [
    {
     "data": {
      "text/plain": [
       "'bem vindo meu nome é elias irei falar sobre os meus gostos eu gosto muito de cachorros e gatos eu gosto também de beber café'"
      ]
     },
     "execution_count": 38,
     "metadata": {},
     "output_type": "execute_result"
    }
   ],
   "source": [
    "texto = \"Bem vindo meu nome é Elias irei falar sobre os meus gostos eu gosto muito de cachorros e gatos eu gosto também de beber café\"\n",
    "\n",
    "texto = texto.lower()\n",
    "texto\n"
   ]
  },
  {
   "cell_type": "markdown",
   "id": "c7705bea",
   "metadata": {},
   "source": [
    "## Testando o uso de diversas colecoes"
   ]
  },
  {
   "cell_type": "code",
   "execution_count": 39,
   "id": "af9b90b9",
   "metadata": {},
   "outputs": [],
   "source": [
    "texto1 = \"\"\"\n",
    "então três aspas e três aspas para poder \n",
    "ter várias linhas, então no Python várias linhas,\n",
    "três parágrafos. Repara, eu não vou copiar o código,\n",
    "eu não quero o código, eu quero o texto em português,\n",
    "então vou copiar essas outras aqui.\n",
    "\"\"\"\n",
    "\n",
    "texto2 = \"\"\"\n",
    "Então eu quero copiar o texto em português sobre\n",
    "programação e mais um pouco aqui, copiar tudo isso.\n",
    "Então eu tenho um texto, que é um texto razoável,\n",
    "posso rodar, é um texto sobre programação.\n",
    "\"\"\""
   ]
  },
  {
   "cell_type": "code",
   "execution_count": 40,
   "id": "488b1982",
   "metadata": {},
   "outputs": [
    {
     "data": {
      "text/plain": [
       "dict_values([6, 15, 9, 12, 5, 23, 38, 18, 4, 17, 19, 10, 3, 4, 3, 9, 2, 3, 6, 1, 4, 1, 2, 11, 4, 2, 3, 1, 1])"
      ]
     },
     "execution_count": 40,
     "metadata": {},
     "output_type": "execute_result"
    }
   ],
   "source": [
    "aparicoes = Counter(texto1.lower())\n",
    "aparicoes.values()"
   ]
  },
  {
   "cell_type": "code",
   "execution_count": 42,
   "id": "69372122",
   "metadata": {},
   "outputs": [
    {
     "name": "stdout",
     "output_type": "stream",
     "text": [
      "('\\n', 0.025423728813559324)\n",
      "('e', 0.0635593220338983)\n",
      "('n', 0.038135593220338986)\n",
      "('t', 0.05084745762711865)\n",
      "('ã', 0.0211864406779661)\n",
      "('o', 0.09745762711864407)\n",
      "(' ', 0.16101694915254236)\n",
      "('r', 0.07627118644067797)\n",
      "('ê', 0.01694915254237288)\n",
      "('s', 0.07203389830508475)\n",
      "('a', 0.08050847457627118)\n",
      "('p', 0.0423728813559322)\n",
      "('d', 0.012711864406779662)\n",
      "('v', 0.01694915254237288)\n",
      "('á', 0.012711864406779662)\n",
      "('i', 0.038135593220338986)\n",
      "('l', 0.00847457627118644)\n",
      "('h', 0.012711864406779662)\n",
      "(',', 0.025423728813559324)\n",
      "('y', 0.00423728813559322)\n",
      "('g', 0.01694915254237288)\n",
      "('f', 0.00423728813559322)\n",
      "('.', 0.00847457627118644)\n",
      "('u', 0.046610169491525424)\n",
      "('c', 0.01694915254237288)\n",
      "('ó', 0.00847457627118644)\n",
      "('q', 0.012711864406779662)\n",
      "('x', 0.00423728813559322)\n",
      "('m', 0.00423728813559322)\n"
     ]
    }
   ],
   "source": [
    "aparicoes = Counter(texto1.lower())\n",
    "total_de_caracteres = sum(aparicoes.values())\n",
    "for letra, frequencia in aparicoes.items():\n",
    "    tupla=(letra, frequencia / total_de_caracteres)\n",
    "    print(tupla)"
   ]
  },
  {
   "cell_type": "code",
   "execution_count": 51,
   "id": "c21c76cd",
   "metadata": {},
   "outputs": [
    {
     "name": "stdout",
     "output_type": "stream",
     "text": [
      "  => 16.10%\n",
      "o => 9.75%\n",
      "a => 8.05%\n",
      "r => 7.63%\n",
      "s => 7.20%\n",
      "e => 6.36%\n",
      "t => 5.08%\n",
      "u => 4.66%\n",
      "p => 4.24%\n",
      "n => 3.81%\n"
     ]
    }
   ],
   "source": [
    "def analisa_frequencia_de_letras(texto):\n",
    "  aparicoes = Counter(texto.lower())\n",
    "  total_de_caracteres = sum(aparicoes.values())\n",
    "\n",
    "  proporcoes = [(letra, frequencia / total_de_caracteres) for letra, frequencia in aparicoes.items()]\n",
    "  proporcoes = Counter(dict(proporcoes))\n",
    "  mais_comuns = proporcoes.most_common(10)\n",
    "  for caractere, proporcao in mais_comuns:\n",
    "    print(\"{} => {:.2f}%\".format(caractere, proporcao * 100))\n",
    "analisa_frequencia_de_letras(texto1)"
   ]
  },
  {
   "cell_type": "code",
   "execution_count": 52,
   "id": "9bdf7d78",
   "metadata": {},
   "outputs": [
    {
     "name": "stdout",
     "output_type": "stream",
     "text": [
      "  => 15.90%\n",
      "o => 13.33%\n",
      "e => 8.21%\n",
      "t => 6.67%\n",
      "u => 6.67%\n",
      "r => 6.67%\n",
      "a => 5.13%\n",
      "m => 4.10%\n",
      "s => 4.10%\n",
      "p => 3.59%\n"
     ]
    }
   ],
   "source": [
    "analisa_frequencia_de_letras(texto2)"
   ]
  },
  {
   "cell_type": "code",
   "execution_count": null,
   "id": "6b81097d",
   "metadata": {},
   "outputs": [],
   "source": []
  }
 ],
 "metadata": {
  "kernelspec": {
   "display_name": "Python 3 (ipykernel)",
   "language": "python",
   "name": "python3"
  },
  "language_info": {
   "codemirror_mode": {
    "name": "ipython",
    "version": 3
   },
   "file_extension": ".py",
   "mimetype": "text/x-python",
   "name": "python",
   "nbconvert_exporter": "python",
   "pygments_lexer": "ipython3",
   "version": "3.9.12"
  }
 },
 "nbformat": 4,
 "nbformat_minor": 5
}
