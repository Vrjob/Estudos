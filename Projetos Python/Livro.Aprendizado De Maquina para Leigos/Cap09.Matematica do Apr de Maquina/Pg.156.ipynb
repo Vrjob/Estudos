{
 "cells": [
  {
   "cell_type": "code",
   "execution_count": 2,
   "metadata": {},
   "outputs": [
    {
     "name": "stdout",
     "output_type": "stream",
     "text": [
      "[44 21 37]\n",
      "(3,)\n"
     ]
    }
   ],
   "source": [
    "import numpy as np\n",
    "y = np.array([44,21,37])\n",
    "print(y)\n",
    "\n",
    "# .shape informa formato da matriz\n",
    "print(y.shape)\n",
    "# ele tem nenhuma coluna, logo é um vetor"
   ]
  },
  {
   "cell_type": "code",
   "execution_count": 3,
   "metadata": {},
   "outputs": [
    {
     "name": "stdout",
     "output_type": "stream",
     "text": [
      "[[  1.1   1.  545.    1. ]\n",
      " [  4.6   0.  345.    2. ]\n",
      " [  7.2   1.  754.    3. ]]\n"
     ]
    }
   ],
   "source": [
    "x = np.array([[1.1, 1, 545, 1], [4.6, 0 ,345, 2], [7.2, 1, 754, 3]])\n",
    "print(x)\n"
   ]
  },
  {
   "cell_type": "code",
   "execution_count": 6,
   "metadata": {},
   "outputs": [
    {
     "name": "stdout",
     "output_type": "stream",
     "text": [
      "[[  1.1   1.  545.    1. ]\n",
      " [  4.6   0.  345.    2. ]\n",
      " [  7.2   1.  754.    3. ]]\n"
     ]
    }
   ],
   "source": [
    "x = np.array([1.1, 1, 545, 1, 4.6, 0 ,345, 2, 7.2, 1, 754, 3]).reshape(3,4)\n",
    "print(x)\n"
   ]
  },
  {
   "cell_type": "code",
   "execution_count": 8,
   "metadata": {},
   "outputs": [
    {
     "name": "stdout",
     "output_type": "stream",
     "text": [
      "[[ 0  1]\n",
      " [ 1 -1]]\n",
      "\n",
      "[[ 0 -2]\n",
      " [-2  2]]\n"
     ]
    }
   ],
   "source": [
    "a = np.array([[1,1],[1,0]])\n",
    "b = np.array([[1,0],[0,1]])\n",
    "print(a-b)\n",
    "print()\n",
    "a = np.array([[0,1],[1,-1]])\n",
    "print(a*-2)"
   ]
  },
  {
   "cell_type": "code",
   "execution_count": 9,
   "metadata": {},
   "outputs": [
    {
     "name": "stdout",
     "output_type": "stream",
     "text": [
      "[ 2 -2  3]\n",
      "[[ 2 17]\n",
      " [-2 16]\n",
      " [ 3  9]]\n"
     ]
    }
   ],
   "source": [
    "x = np.array([[4,5],[2,4],[3,3]])\n",
    "b = np.array([3,-2])\n",
    "print(np.dot(x,b))\n",
    "c = np.array([[3,-2],[-2,5]])\n",
    "print(np.dot(x,c))\n"
   ]
  },
  {
   "cell_type": "code",
   "execution_count": null,
   "metadata": {},
   "outputs": [],
   "source": []
  }
 ],
 "metadata": {
  "kernelspec": {
   "display_name": "Python 3",
   "language": "python",
   "name": "python3"
  },
  "language_info": {
   "codemirror_mode": {
    "name": "ipython",
    "version": 3
   },
   "file_extension": ".py",
   "mimetype": "text/x-python",
   "name": "python",
   "nbconvert_exporter": "python",
   "pygments_lexer": "ipython3",
   "version": "3.11.1"
  },
  "orig_nbformat": 4,
  "vscode": {
   "interpreter": {
    "hash": "42b656937b4a933dd4f2e8d91514cb79d2e9eaee0456c88f19c2cbdcb4377310"
   }
  }
 },
 "nbformat": 4,
 "nbformat_minor": 2
}
