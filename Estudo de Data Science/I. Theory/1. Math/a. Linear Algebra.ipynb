{
 "cells": [
  {
   "attachments": {},
   "cell_type": "markdown",
   "metadata": {},
   "source": [
    "Original Link: \n",
    "\n",
    "https://www.youtube.com/watch?v=fNk_zzaMoSs&list=PLZHQObOWTQDPD3MizzM2xVFitgF8hE_ab&index=2&ab_channel=3Blue1Brown\n",
    "\n",
    "\n",
    "I.1.A. Linear Algebra\n",
    "\n",
    "\n",
    "**Vector**: fundamental building block for Linear Algebra.\n",
    "    \n",
    "    >In CS: Vectors are Ordered List od numbers;\n",
    "    \n",
    "    >In Math: ehhh..?\n",
    "\n",
    "Think Vector as an Arrow inside a coordinate system.\n",
    "\n",
    "    >Sum: Is like following a road of a map;\n",
    "\n",
    "    >Multiplication: Is like Scaling.\n"
   ]
  },
  {
   "attachments": {},
   "cell_type": "markdown",
   "metadata": {},
   "source": [
    "\n",
    "Basis of a Coordinate System\n",
    "\n",
    "    >i-Hat : points to the X-Direction\n",
    "    >j-Hat : points to the Y-Direction\n",
    "\n",
    "Linear Combination\n",
    "$$\n",
    "(a)i + (b)j\n",
    "$$\n",
    "**Span of a Vector**: Is where all possible vectors you can reach using only the two fundamental operations.\n"
   ]
  },
  {
   "attachments": {},
   "cell_type": "markdown",
   "metadata": {},
   "source": [
    "Linear Transformation: Movement of a Vector.\n",
    "    > Grinds will change, but the point of origin will continue the same, Grid Lines remain parrallel and evenly spaced.\n",
    "\n"
   ]
  }
 ],
 "metadata": {
  "kernelspec": {
   "display_name": "Python 3",
   "language": "python",
   "name": "python3"
  },
  "language_info": {
   "codemirror_mode": {
    "name": "ipython",
    "version": 3
   },
   "file_extension": ".py",
   "mimetype": "text/x-python",
   "name": "python",
   "nbconvert_exporter": "python",
   "pygments_lexer": "ipython3",
   "version": "3.11.3"
  },
  "orig_nbformat": 4
 },
 "nbformat": 4,
 "nbformat_minor": 2
}
